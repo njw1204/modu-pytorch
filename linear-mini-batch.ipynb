{
 "cells": [
  {
   "cell_type": "markdown",
   "metadata": {},
   "source": [
    "# 예약 매출 예측 모델 v2"
   ]
  },
  {
   "cell_type": "code",
   "execution_count": 1,
   "metadata": {},
   "outputs": [
    {
     "name": "stdout",
     "output_type": "stream",
     "text": [
      "cuda:0\n"
     ]
    }
   ],
   "source": [
    "import random\n",
    "import numpy as np\n",
    "import matplotlib.pyplot as plt\n",
    "import torch\n",
    "from torch import nn\n",
    "from torch.utils import data\n",
    "\n",
    "random_seed = 20181401\n",
    "random.seed(random_seed)\n",
    "np.random.seed(random_seed)\n",
    "torch.manual_seed(random_seed)\n",
    "torch.cuda.manual_seed(random_seed)\n",
    "torch.backends.cudnn.deterministic = True\n",
    "torch.backends.cudnn.benchmark = False\n",
    "\n",
    "device = torch.device(\"cuda:0\" if torch.cuda.is_available() else \"cpu\")\n",
    "print(device)"
   ]
  },
  {
   "cell_type": "code",
   "execution_count": 2,
   "metadata": {},
   "outputs": [],
   "source": [
    "class MyDataset(data.Dataset):\n",
    "  def __init__(self):\n",
    "    super().__init__()\n",
    "    self.x_trains = [\n",
    "      [395, 517, 40, 40,],\n",
    "      [425, 589, 45, 50,],\n",
    "      [441, 613, 34, 57,],\n",
    "      [407, 580, 39, 50,],\n",
    "      [333, 539, 40, 31,],\n",
    "      [334, 450, 26, 28,],\n",
    "      [409, 521, 28, 52,],\n",
    "      [372, 529, 29, 44,],\n",
    "      [382, 571, 33, 50,],\n",
    "      [413, 606, 42, 51,],\n",
    "    ]\n",
    "    self.y_trains = [\n",
    "      [23685.2654,],\n",
    "      [26223.6202,],\n",
    "      [26596.5754,],\n",
    "      [26549.5062,],\n",
    "      [23935.5809,],\n",
    "      [19377.2396,],\n",
    "      [24493.6178,],\n",
    "      [21757.2808,],\n",
    "      [24278.4222,],\n",
    "      [26529.5144,],\n",
    "    ]\n",
    "  \n",
    "  def __len__(self):\n",
    "    return len(self.x_trains)\n",
    "  \n",
    "  def __getitem__(self, index):\n",
    "    return (\n",
    "      torch.FloatTensor(self.x_trains[index]).to(device),\n",
    "      torch.FloatTensor(self.y_trains[index]).to(device),\n",
    "    )"
   ]
  },
  {
   "cell_type": "code",
   "execution_count": 3,
   "metadata": {},
   "outputs": [],
   "source": [
    "class MyModel(nn.Module):\n",
    "  def __init__(self):\n",
    "    super().__init__()\n",
    "    self.linear = nn.Linear(4, 1)\n",
    "  \n",
    "  def forward(self, x):\n",
    "    return self.linear(x)"
   ]
  },
  {
   "cell_type": "code",
   "execution_count": 4,
   "metadata": {},
   "outputs": [
    {
     "name": "stdout",
     "output_type": "stream",
     "text": [
      "[(tensor([395., 517.,  40.,  40.], device='cuda:0'), tensor([23685.2656], device='cuda:0')), (tensor([425., 589.,  45.,  50.], device='cuda:0'), tensor([26223.6211], device='cuda:0')), (tensor([441., 613.,  34.,  57.], device='cuda:0'), tensor([26596.5762], device='cuda:0')), (tensor([407., 580.,  39.,  50.], device='cuda:0'), tensor([26549.5059], device='cuda:0')), (tensor([333., 539.,  40.,  31.], device='cuda:0'), tensor([23935.5801], device='cuda:0')), (tensor([334., 450.,  26.,  28.], device='cuda:0'), tensor([19377.2402], device='cuda:0')), (tensor([409., 521.,  28.,  52.], device='cuda:0'), tensor([24493.6172], device='cuda:0')), (tensor([372., 529.,  29.,  44.], device='cuda:0'), tensor([21757.2812], device='cuda:0')), (tensor([382., 571.,  33.,  50.], device='cuda:0'), tensor([24278.4219], device='cuda:0')), (tensor([413., 606.,  42.,  51.], device='cuda:0'), tensor([26529.5137], device='cuda:0'))] [('linear.weight', Parameter containing:\n",
      "tensor([[ 0.4385,  0.1300,  0.2423, -0.4678]], device='cuda:0',\n",
      "       requires_grad=True)), ('linear.bias', Parameter containing:\n",
      "tensor([-0.1235], device='cuda:0', requires_grad=True))] Adam (\n",
      "Parameter Group 0\n",
      "    amsgrad: False\n",
      "    betas: (0.9, 0.999)\n",
      "    capturable: False\n",
      "    eps: 1e-08\n",
      "    foreach: None\n",
      "    lr: 0.0001\n",
      "    maximize: False\n",
      "    weight_decay: 0\n",
      ")\n"
     ]
    }
   ],
   "source": [
    "dataset = MyDataset()\n",
    "dataloader = data.DataLoader(dataset, batch_size=4, shuffle=True, drop_last=True)\n",
    "model = MyModel().to(device)\n",
    "optimizer = torch.optim.Adam(model.parameters(), lr=0.0001)\n",
    "\n",
    "print([*dataset], [*model.named_parameters()], optimizer)"
   ]
  },
  {
   "cell_type": "code",
   "execution_count": 5,
   "metadata": {},
   "outputs": [
    {
     "name": "stdout",
     "output_type": "stream",
     "text": [
      "[1, 579847136.0]\n",
      "[10000, 516533536.0]\n",
      "[20000, 395660672.0]\n",
      "[30000, 312164256.0]\n",
      "[40000, 267208480.0]\n",
      "[50000, 194685800.0]\n",
      "[60000, 140862352.0]\n",
      "[70000, 102339324.0]\n",
      "[80000, 67031782.0]\n",
      "[90000, 38026642.0]\n",
      "[100000, 15732072.5]\n",
      "[110000, 4306025.75]\n",
      "[120000, 467125.296875]\n"
     ]
    }
   ],
   "source": [
    "epoch = 1\n",
    "mean_costs = []\n",
    "\n",
    "while epoch <= 120000:\n",
    "  costs = []\n",
    "\n",
    "  for iteration, batch in enumerate(dataloader):\n",
    "    H = model(batch[0])\n",
    "    cost = nn.functional.mse_loss(H, batch[1])\n",
    "    # abs_cost = nn.functional.l1_loss(H, batch[1])\n",
    "    costs.append(cost.item())\n",
    "  \n",
    "    optimizer.zero_grad()\n",
    "    cost.backward()\n",
    "    optimizer.step()\n",
    "  \n",
    "  if epoch == 1 or epoch % 2000 == 0:\n",
    "    mean_costs.append([epoch, np.mean(costs)])\n",
    "\n",
    "    if epoch == 1 or epoch % 10000 == 0:\n",
    "      print(mean_costs[-1])\n",
    "  \n",
    "  epoch += 1"
   ]
  },
  {
   "cell_type": "code",
   "execution_count": 6,
   "metadata": {},
   "outputs": [
    {
     "name": "stdout",
     "output_type": "stream",
     "text": [
      "[('linear.weight', Parameter containing:\n",
      "tensor([[23.7799, 23.4666, 23.5423, 22.7986]], device='cuda:0',\n",
      "       requires_grad=True)), ('linear.bias', Parameter containing:\n",
      "tensor([23.2396], device='cuda:0', requires_grad=True))]\n"
     ]
    },
    {
     "data": {
      "image/png": "[encoded data removed]",
      "text/plain": [
       "<Figure size 432x288 with 1 Axes>"
      ]
     },
     "metadata": {
      "needs_background": "light"
     },
     "output_type": "display_data"
    }
   ],
   "source": [
    "print([*model.named_parameters()])\n",
    "plt.plot(*zip(*mean_costs), linewidth=1)\n",
    "plt.show()"
   ]
  }
 ],
 "metadata": {
  "kernelspec": {
   "display_name": "Python 3.9.12 ('base')",
   "language": "python",
   "name": "python3"
  },
  "language_info": {
   "codemirror_mode": {
    "name": "ipython",
    "version": 3
   },
   "file_extension": ".py",
   "mimetype": "text/x-python",
   "name": "python",
   "nbconvert_exporter": "python",
   "pygments_lexer": "ipython3",
   "version": "3.9.12"
  },
  "orig_nbformat": 4,
  "vscode": {
   "interpreter": {
    "hash": "caf1c2fcf97217de91eafa76b907d50f9ea378f5ffbee7f571142d119bb6a771"
   }
  }
 },
 "nbformat": 4,
 "nbformat_minor": 2
}
