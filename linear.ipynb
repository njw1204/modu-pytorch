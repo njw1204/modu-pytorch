{
 "cells": [
  {
   "cell_type": "markdown",
   "metadata": {},
   "source": [
    "# Hello World"
   ]
  },
  {
   "cell_type": "code",
   "execution_count": 1,
   "metadata": {},
   "outputs": [],
   "source": [
    "import numpy as np"
   ]
  },
  {
   "cell_type": "code",
   "execution_count": 2,
   "metadata": {},
   "outputs": [],
   "source": [
    "matrix = np.array([[0., 1., 2.,], [1., 2., 3.,]])\n",
    "matrix2 = np.array([[0., 1.,], [0., 1.,], [0., 1.,]])"
   ]
  },
  {
   "cell_type": "code",
   "execution_count": 3,
   "metadata": {},
   "outputs": [
    {
     "name": "stdout",
     "output_type": "stream",
     "text": [
      "[[0. 1. 2.]\n",
      " [1. 2. 3.]] 2 (2, 3)\n",
      "[[0. 1.]\n",
      " [0. 1.]\n",
      " [0. 1.]] 2 (3, 2)\n"
     ]
    }
   ],
   "source": [
    "print(matrix, matrix.ndim, matrix.shape)\n",
    "print(matrix2, matrix2.ndim, matrix2.shape)"
   ]
  },
  {
   "cell_type": "code",
   "execution_count": 4,
   "metadata": {},
   "outputs": [
    {
     "name": "stdout",
     "output_type": "stream",
     "text": [
      "[2. 3. 0. 1. 2.]\n",
      "[[0. 1. 2.]\n",
      " [0. 2. 3.]]\n"
     ]
    }
   ],
   "source": [
    "print(np.concatenate([matrix[:, -1], matrix[0, :]], axis=0))\n",
    "print(np.stack([matrix[0, :], np.concatenate([[0], matrix[:, -1]])], axis=0))"
   ]
  },
  {
   "cell_type": "code",
   "execution_count": 5,
   "metadata": {},
   "outputs": [
    {
     "name": "stdout",
     "output_type": "stream",
     "text": [
      "[[0. 3.]\n",
      " [0. 6.]]\n",
      "[1. 2. 3.]\n",
      "[1 1 1]\n",
      "[0.5 0.5 0.5]\n"
     ]
    }
   ],
   "source": [
    "print(np.matmul(matrix, matrix2))\n",
    "print(np.max(matrix, axis=0))\n",
    "print(np.argmax(matrix, axis=0))\n",
    "print(np.mean(matrix2, axis=-1))"
   ]
  },
  {
   "cell_type": "code",
   "execution_count": 6,
   "metadata": {},
   "outputs": [
    {
     "name": "stdout",
     "output_type": "stream",
     "text": [
      "[[0.]\n",
      " [1.]\n",
      " [2.]\n",
      " [1.]\n",
      " [2.]\n",
      " [3.]]\n",
      "[0. 1. 2. 1. 2. 3.]\n",
      "[[0. 1. 0.]\n",
      " [1. 0. 1.]]\n"
     ]
    }
   ],
   "source": [
    "print(np.reshape(matrix, [-1, 1]))\n",
    "print(np.squeeze(np.reshape(matrix, [-1, 1])))\n",
    "print(np.reshape(matrix2, [2, -1]))"
   ]
  },
  {
   "cell_type": "code",
   "execution_count": 7,
   "metadata": {},
   "outputs": [
    {
     "name": "stdout",
     "output_type": "stream",
     "text": [
      "[[0. 0. 0.]\n",
      " [0. 0. 0.]]\n",
      "[[1. 1. 1.]\n",
      " [1. 1. 1.]]\n",
      "[[ 1.00374212 -0.25762429 -0.19060134  0.35443104  0.84491693]\n",
      " [-0.69649935  1.16199803  0.76512409 -0.45696059  1.14969862]\n",
      " [ 1.22678783  0.21618514  0.34547734 -1.68846894 -1.71435571]\n",
      " [-1.12695567 -0.78586352 -1.3161807  -0.78344705 -0.06847782]\n",
      " [-2.30581115 -0.22400694  0.25622884 -0.80971456 -0.55559175]]\n"
     ]
    }
   ],
   "source": [
    "print(np.zeros_like(matrix))\n",
    "print(np.ones_like(matrix2.T))\n",
    "print(np.random.randn(5, 5))"
   ]
  }
 ],
 "metadata": {
  "kernelspec": {
   "display_name": "Python 3.9.12 ('base')",
   "language": "python",
   "name": "python3"
  },
  "language_info": {
   "codemirror_mode": {
    "name": "ipython",
    "version": 3
   },
   "file_extension": ".py",
   "mimetype": "text/x-python",
   "name": "python",
   "nbconvert_exporter": "python",
   "pygments_lexer": "ipython3",
   "version": "3.9.12"
  },
  "orig_nbformat": 4,
  "vscode": {
   "interpreter": {
    "hash": "caf1c2fcf97217de91eafa76b907d50f9ea378f5ffbee7f571142d119bb6a771"
   }
  }
 },
 "nbformat": 4,
 "nbformat_minor": 2
}
