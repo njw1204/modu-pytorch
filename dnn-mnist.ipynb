{
 "cells": [
  {
   "cell_type": "markdown",
   "metadata": {},
   "source": [
    "# MNIST v3"
   ]
  },
  {
   "cell_type": "code",
   "execution_count": 1,
   "metadata": {},
   "outputs": [
    {
     "name": "stdout",
     "output_type": "stream",
     "text": [
      "cuda:0\n"
     ]
    }
   ],
   "source": [
    "import itertools\n",
    "import random\n",
    "import numpy as np\n",
    "import matplotlib.pyplot as plt\n",
    "import torch\n",
    "from torch import nn, optim\n",
    "from torch.utils.data import DataLoader\n",
    "from torchvision import datasets, transforms\n",
    "\n",
    "random_seed = 20181401\n",
    "random.seed(random_seed)\n",
    "np.random.seed(random_seed)\n",
    "torch.manual_seed(random_seed)\n",
    "torch.cuda.manual_seed(random_seed)\n",
    "torch.backends.cudnn.deterministic = True\n",
    "torch.backends.cudnn.benchmark = False\n",
    "\n",
    "device = torch.device(\"cuda:0\" if torch.cuda.is_available() else \"cpu\")\n",
    "print(device)"
   ]
  },
  {
   "cell_type": "code",
   "execution_count": 2,
   "metadata": {},
   "outputs": [
    {
     "name": "stdout",
     "output_type": "stream",
     "text": [
      "X: torch.Size([60000, 28, 28])\n",
      "Y: torch.Size([60000])\n"
     ]
    }
   ],
   "source": [
    "total_epochs = 20\n",
    "batch_size = 32\n",
    "mnist_train = datasets.MNIST(root=\"datasets/\", train=True, transform=transforms.ToTensor(), download=True)\n",
    "mnist_test = datasets.MNIST(root=\"datasets/\", train=False, transform=transforms.ToTensor(), download=True)\n",
    "mnist_train_dataloader = DataLoader(mnist_train, batch_size=batch_size, shuffle=True, drop_last=True)\n",
    "mnist_test_dataloader = DataLoader(mnist_test, batch_size=batch_size)\n",
    "\n",
    "print(\"X:\", mnist_train.data.shape)\n",
    "print(\"Y:\", mnist_train.targets.shape)"
   ]
  },
  {
   "cell_type": "code",
   "execution_count": 3,
   "metadata": {},
   "outputs": [],
   "source": [
    "class MnistModel(nn.Module):\n",
    "  def __init__(self):\n",
    "    super().__init__()\n",
    "    self.layer1 = nn.Sequential(nn.Linear(784, 512), nn.BatchNorm1d(512), nn.ReLU(), nn.Dropout(0.5))\n",
    "    self.layer2 = nn.Sequential(nn.Linear(512, 512), nn.BatchNorm1d(512), nn.ReLU(), nn.Dropout(0.5))\n",
    "    self.layer3 = nn.Sequential(nn.Linear(512, 256), nn.BatchNorm1d(256), nn.ReLU(), nn.Dropout(0.5))\n",
    "    self.layer4 = nn.Sequential(nn.Linear(256, 256), nn.BatchNorm1d(256), nn.ReLU(), nn.Dropout(0.5))\n",
    "    self.layer5 = nn.Sequential(nn.Linear(256, 10), nn.LogSoftmax(dim=1))\n",
    "    nn.init.xavier_uniform_(self.layer1[0].weight)\n",
    "    nn.init.xavier_uniform_(self.layer2[0].weight)\n",
    "    nn.init.xavier_uniform_(self.layer3[0].weight)\n",
    "    nn.init.xavier_uniform_(self.layer4[0].weight)\n",
    "    nn.init.xavier_uniform_(self.layer5[0].weight)\n",
    "\n",
    "  def forward(self, x):\n",
    "    return (\n",
    "      self.layer5(\n",
    "        self.layer4(\n",
    "          self.layer3(\n",
    "            self.layer2(\n",
    "              self.layer1(\n",
    "                x\n",
    "              )\n",
    "            )\n",
    "          )\n",
    "        )\n",
    "      )\n",
    "    )"
   ]
  },
  {
   "cell_type": "code",
   "execution_count": 4,
   "metadata": {},
   "outputs": [],
   "source": [
    "model = MnistModel().to(device)\n",
    "optimizer = optim.Adam(model.parameters(), lr=0.001)"
   ]
  },
  {
   "cell_type": "code",
   "execution_count": 5,
   "metadata": {},
   "outputs": [],
   "source": [
    "def calculate_accurancy():\n",
    "  with torch.no_grad():\n",
    "    model.eval()\n",
    "    accurancy = 0\n",
    "    batch_count = len(mnist_test_dataloader)\n",
    "\n",
    "    for x, y in mnist_test_dataloader:\n",
    "      assert isinstance(x, torch.Tensor)\n",
    "      assert isinstance(y, torch.Tensor)\n",
    "      x = x.view(-1, 784).to(device)\n",
    "      y = y.to(device)\n",
    "\n",
    "      hypothesis = model(x)\n",
    "      prediction = hypothesis.argmax(dim=1)\n",
    "      correct_prediction = (prediction == y)\n",
    "      accurancy += correct_prediction.float().mean().item() / batch_count\n",
    "  \n",
    "    return accurancy"
   ]
  },
  {
   "cell_type": "code",
   "execution_count": 6,
   "metadata": {},
   "outputs": [
    {
     "name": "stdout",
     "output_type": "stream",
     "text": [
      "epoch = 0 / accurancy = 8.676%\n",
      "epoch = 1 / cost = 0.5677710760156318 / accurancy = 95.657%\n",
      "epoch = 2 / cost = 0.2977903052399554 / accurancy = 96.615%\n",
      "epoch = 3 / cost = 0.24153516249756027 / accurancy = 97.105%\n",
      "epoch = 4 / cost = 0.2144083989943071 / accurancy = 97.384%\n",
      "epoch = 5 / cost = 0.19315847204277906 / accurancy = 97.724%\n",
      "epoch = 6 / cost = 0.17155162186225217 / accurancy = 97.804%\n",
      "epoch = 7 / cost = 0.1607870256155729 / accurancy = 97.644%\n",
      "epoch = 8 / cost = 0.15518083624318205 / accurancy = 98.093%\n",
      "epoch = 9 / cost = 0.14381696181359407 / accurancy = 98.073%\n",
      "epoch = 10 / cost = 0.13626026794935248 / accurancy = 98.263%\n",
      "epoch = 11 / cost = 0.12671458934495824 / accurancy = 98.233%\n",
      "epoch = 12 / cost = 0.12291281660074997 / accurancy = 98.303%\n",
      "epoch = 13 / cost = 0.11498236393618101 / accurancy = 98.313%\n",
      "epoch = 14 / cost = 0.11296979419365524 / accurancy = 98.383%\n",
      "epoch = 15 / cost = 0.1088005841785422 / accurancy = 98.413%\n",
      "epoch = 16 / cost = 0.10609945170568956 / accurancy = 98.343%\n",
      "epoch = 17 / cost = 0.09956678421534591 / accurancy = 98.403%\n",
      "epoch = 18 / cost = 0.09926781175577377 / accurancy = 98.373%\n",
      "epoch = 19 / cost = 0.09871021728366629 / accurancy = 98.323%\n",
      "epoch = 20 / cost = 0.09281524015565713 / accurancy = 98.442%\n"
     ]
    }
   ],
   "source": [
    "print(\"epoch =\", 0, \"/\", \"accurancy = {:.3f}%\".format(calculate_accurancy() * 100))\n",
    "\n",
    "for epoch in range(total_epochs):\n",
    "  model.train()\n",
    "  avg_cost = 0\n",
    "  batch_count = len(mnist_train_dataloader)\n",
    "\n",
    "  for x, y in mnist_train_dataloader:\n",
    "    assert isinstance(x, torch.Tensor)\n",
    "    assert isinstance(y, torch.Tensor)\n",
    "    x = x.view(-1, 784).to(device)\n",
    "    y = y.to(device)\n",
    "\n",
    "    hypothesis = model(x)\n",
    "    cost = nn.functional.nll_loss(hypothesis, y)\n",
    "    \n",
    "    optimizer.zero_grad()\n",
    "    cost.backward()\n",
    "    optimizer.step()\n",
    "    avg_cost += cost.item() / batch_count\n",
    "  \n",
    "  print(\"epoch =\", (epoch + 1), \"/\", \"cost =\", avg_cost, \"/\", \"accurancy = {:.3f}%\".format(calculate_accurancy() * 100))"
   ]
  },
  {
   "cell_type": "code",
   "execution_count": 7,
   "metadata": {},
   "outputs": [
    {
     "name": "stdout",
     "output_type": "stream",
     "text": [
      "Label: 3\n",
      "Prediction: 3 (100.000%)\n"
     ]
    },
    {
     "data": {
      "image/png": "[encoded data removed]",
      "text/plain": [
       "<Figure size 432x288 with 1 Axes>"
      ]
     },
     "metadata": {
      "needs_background": "light"
     },
     "output_type": "display_data"
    },
    {
     "name": "stdout",
     "output_type": "stream",
     "text": [
      "Label: 9\n",
      "Prediction: 9 (99.981%)\n"
     ]
    },
    {
     "data": {
      "image/png": "[encoded data removed]",
      "text/plain": [
       "<Figure size 432x288 with 1 Axes>"
      ]
     },
     "metadata": {
      "needs_background": "light"
     },
     "output_type": "display_data"
    },
    {
     "name": "stdout",
     "output_type": "stream",
     "text": [
      "Label: 9\n",
      "Prediction: 9 (100.000%)\n"
     ]
    },
    {
     "data": {
      "image/png": "[encoded data removed]",
      "text/plain": [
       "<Figure size 432x288 with 1 Axes>"
      ]
     },
     "metadata": {
      "needs_background": "light"
     },
     "output_type": "display_data"
    },
    {
     "name": "stdout",
     "output_type": "stream",
     "text": [
      "Label: 2\n",
      "Prediction: 2 (99.978%)\n"
     ]
    },
    {
     "data": {
      "image/png": "[encoded data removed]",
      "text/plain": [
       "<Figure size 432x288 with 1 Axes>"
      ]
     },
     "metadata": {
      "needs_background": "light"
     },
     "output_type": "display_data"
    },
    {
     "name": "stdout",
     "output_type": "stream",
     "text": [
      "Label: 1\n",
      "Prediction: 1 (100.000%)\n"
     ]
    },
    {
     "data": {
      "image/png": "[encoded data removed]",
      "text/plain": [
       "<Figure size 432x288 with 1 Axes>"
      ]
     },
     "metadata": {
      "needs_background": "light"
     },
     "output_type": "display_data"
    },
    {
     "name": "stdout",
     "output_type": "stream",
     "text": [
      "Label: 8\n",
      "Prediction: 8 (99.999%)\n"
     ]
    },
    {
     "data": {
      "image/png": "[encoded data removed]",
      "text/plain": [
       "<Figure size 432x288 with 1 Axes>"
      ]
     },
     "metadata": {
      "needs_background": "light"
     },
     "output_type": "display_data"
    },
    {
     "name": "stdout",
     "output_type": "stream",
     "text": [
      "Label: 5\n",
      "Prediction: 5 (99.996%)\n"
     ]
    },
    {
     "data": {
      "image/png": "[encoded data removed]",
      "text/plain": [
       "<Figure size 432x288 with 1 Axes>"
      ]
     },
     "metadata": {
      "needs_background": "light"
     },
     "output_type": "display_data"
    },
    {
     "name": "stdout",
     "output_type": "stream",
     "text": [
      "Label: 7\n",
      "Prediction: 7 (99.993%)\n"
     ]
    },
    {
     "data": {
      "image/png": "[encoded data removed]",
      "text/plain": [
       "<Figure size 432x288 with 1 Axes>"
      ]
     },
     "metadata": {
      "needs_background": "light"
     },
     "output_type": "display_data"
    },
    {
     "name": "stdout",
     "output_type": "stream",
     "text": [
      "Label: 6\n",
      "Prediction: 6 (100.000%)\n"
     ]
    },
    {
     "data": {
      "image/png": "[encoded data removed]",
      "text/plain": [
       "<Figure size 432x288 with 1 Axes>"
      ]
     },
     "metadata": {
      "needs_background": "light"
     },
     "output_type": "display_data"
    },
    {
     "name": "stdout",
     "output_type": "stream",
     "text": [
      "Label: 3\n",
      "Prediction: 3 (83.656%)\n"
     ]
    },
    {
     "data": {
      "image/png": "[encoded data removed]",
      "text/plain": [
       "<Figure size 432x288 with 1 Axes>"
      ]
     },
     "metadata": {
      "needs_background": "light"
     },
     "output_type": "display_data"
    },
    {
     "name": "stdout",
     "output_type": "stream",
     "text": [
      "Label: 2\n",
      "Prediction: 2 (99.435%)\n"
     ]
    },
    {
     "data": {
      "image/png": "[encoded data removed]",
      "text/plain": [
       "<Figure size 432x288 with 1 Axes>"
      ]
     },
     "metadata": {
      "needs_background": "light"
     },
     "output_type": "display_data"
    },
    {
     "name": "stdout",
     "output_type": "stream",
     "text": [
      "Label: 8\n",
      "Prediction: 8 (99.974%)\n"
     ]
    },
    {
     "data": {
      "image/png": "[encoded data removed]",
      "text/plain": [
       "<Figure size 432x288 with 1 Axes>"
      ]
     },
     "metadata": {
      "needs_background": "light"
     },
     "output_type": "display_data"
    },
    {
     "name": "stdout",
     "output_type": "stream",
     "text": [
      "Label: 7\n",
      "Prediction: 7 (99.995%)\n"
     ]
    },
    {
     "data": {
      "image/png": "[encoded data removed]",
      "text/plain": [
       "<Figure size 432x288 with 1 Axes>"
      ]
     },
     "metadata": {
      "needs_background": "light"
     },
     "output_type": "display_data"
    },
    {
     "name": "stdout",
     "output_type": "stream",
     "text": [
      "Label: 9\n",
      "Prediction: 9 (79.818%)\n"
     ]
    },
    {
     "data": {
      "image/png": "[encoded data removed]",
      "text/plain": [
       "<Figure size 432x288 with 1 Axes>"
      ]
     },
     "metadata": {
      "needs_background": "light"
     },
     "output_type": "display_data"
    },
    {
     "name": "stdout",
     "output_type": "stream",
     "text": [
      "Label: 5\n",
      "Prediction: 5 (99.969%)\n"
     ]
    },
    {
     "data": {
      "image/png": "[encoded data removed]",
      "text/plain": [
       "<Figure size 432x288 with 1 Axes>"
      ]
     },
     "metadata": {
      "needs_background": "light"
     },
     "output_type": "display_data"
    },
    {
     "name": "stdout",
     "output_type": "stream",
     "text": [
      "Label: 3\n",
      "Prediction: 3 (100.000%)\n"
     ]
    },
    {
     "data": {
      "image/png": "[encoded data removed]",
      "text/plain": [
       "<Figure size 432x288 with 1 Axes>"
      ]
     },
     "metadata": {
      "needs_background": "light"
     },
     "output_type": "display_data"
    },
    {
     "name": "stdout",
     "output_type": "stream",
     "text": [
      "Label: 9\n",
      "Prediction: 9 (99.979%)\n"
     ]
    },
    {
     "data": {
      "image/png": "[encoded data removed]",
      "text/plain": [
       "<Figure size 432x288 with 1 Axes>"
      ]
     },
     "metadata": {
      "needs_background": "light"
     },
     "output_type": "display_data"
    },
    {
     "name": "stdout",
     "output_type": "stream",
     "text": [
      "Label: 2\n",
      "Prediction: 2 (99.748%)\n"
     ]
    },
    {
     "data": {
      "image/png": "[encoded data removed]",
      "text/plain": [
       "<Figure size 432x288 with 1 Axes>"
      ]
     },
     "metadata": {
      "needs_background": "light"
     },
     "output_type": "display_data"
    },
    {
     "name": "stdout",
     "output_type": "stream",
     "text": [
      "Label: 7\n",
      "Prediction: 7 (99.998%)\n"
     ]
    },
    {
     "data": {
      "image/png": "[encoded data removed]",
      "text/plain": [
       "<Figure size 432x288 with 1 Axes>"
      ]
     },
     "metadata": {
      "needs_background": "light"
     },
     "output_type": "display_data"
    },
    {
     "name": "stdout",
     "output_type": "stream",
     "text": [
      "Label: 7\n",
      "Prediction: 7 (99.998%)\n"
     ]
    },
    {
     "data": {
      "image/png": "[encoded data removed]",
      "text/plain": [
       "<Figure size 432x288 with 1 Axes>"
      ]
     },
     "metadata": {
      "needs_background": "light"
     },
     "output_type": "display_data"
    }
   ],
   "source": [
    "with torch.no_grad():\n",
    "  model.eval()\n",
    "  \n",
    "  for x, y in itertools.islice(DataLoader(mnist_test, batch_size=1, shuffle=True), 20):\n",
    "    assert isinstance(x, torch.Tensor)\n",
    "    assert isinstance(y, torch.Tensor)\n",
    "    x = x.view(-1, 28 * 28).to(device)\n",
    "    y = y.to(device)\n",
    "\n",
    "    hypothesis = model(x)\n",
    "    prediction = hypothesis.argmax(dim=1).item()\n",
    "    prediction_percent = hypothesis.max(dim=1)[0].exp().item() * 100\n",
    "\n",
    "    print(\"Label:\", y.item())\n",
    "    print(\"Prediction:\", prediction, \"({:.3f}%)\".format(prediction_percent))\n",
    "    plt.imshow(x.cpu().view(28, 28), cmap=plt.cm.Greys, interpolation=\"nearest\")\n",
    "    plt.show()"
   ]
  }
 ],
 "metadata": {
  "kernelspec": {
   "display_name": "Python 3.9.12 ('base')",
   "language": "python",
   "name": "python3"
  },
  "language_info": {
   "codemirror_mode": {
    "name": "ipython",
    "version": 3
   },
   "file_extension": ".py",
   "mimetype": "text/x-python",
   "name": "python",
   "nbconvert_exporter": "python",
   "pygments_lexer": "ipython3",
   "version": "3.9.12"
  },
  "orig_nbformat": 4,
  "vscode": {
   "interpreter": {
    "hash": "caf1c2fcf97217de91eafa76b907d50f9ea378f5ffbee7f571142d119bb6a771"
   }
  }
 },
 "nbformat": 4,
 "nbformat_minor": 2
}
