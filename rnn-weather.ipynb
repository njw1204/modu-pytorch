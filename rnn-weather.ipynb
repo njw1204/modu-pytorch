{
  "cells": [
    {
      "cell_type": "markdown",
      "metadata": {
        "id": "_Zhbc3eV6c0X"
      },
      "source": [
        "# 기온 예측"
      ]
    },
    {
      "cell_type": "code",
      "execution_count": 1,
      "metadata": {
        "colab": {
          "base_uri": "https://localhost:8080/",
          "height": 35
        },
        "id": "8s_gXzHe6c0b",
        "outputId": "3bf33858-1960-43f9-8cd8-08fc1b24d007"
      },
      "outputs": [
        {
          "data": {
            "text/plain": [
              "device(type='cuda', index=0)"
            ]
          },
          "metadata": {},
          "output_type": "display_data"
        }
      ],
      "source": [
        "import os\n",
        "import itertools\n",
        "import random\n",
        "import numpy as np\n",
        "import pandas as pd\n",
        "import matplotlib.pyplot as plt\n",
        "import torch\n",
        "from torch import nn, optim\n",
        "from torch.utils import tensorboard\n",
        "from torch.utils.data import DataLoader, Dataset\n",
        "\n",
        "random_seed = 20181401\n",
        "random.seed(random_seed)\n",
        "np.random.seed(random_seed)\n",
        "torch.manual_seed(random_seed)\n",
        "torch.cuda.manual_seed_all(random_seed)\n",
        "\n",
        "display = display if \"display\" in vars(__builtins__) else print\n",
        "device = torch.device(\"cuda:0\" if torch.cuda.is_available() else \"cpu\")\n",
        "writer = tensorboard.SummaryWriter()\n",
        "\n",
        "display(device)"
      ]
    },
    {
      "cell_type": "code",
      "execution_count": 2,
      "metadata": {
        "id": "DbFZeVrq6c0c"
      },
      "outputs": [],
      "source": [
        "learning_rate = 0.0001\n",
        "training_epochs = 20\n",
        "batch_size = 64"
      ]
    },
    {
      "cell_type": "code",
      "execution_count": 3,
      "metadata": {},
      "outputs": [],
      "source": [
        "class MyDataset(Dataset):\n",
        "  def __init__(self, root, train, target_delay=144, seq_len=720, stride=5):\n",
        "    df = pd.read_csv(os.path.join(root, \"jena-climate-2009-2016.csv\"))\n",
        "    df[\"Date Time\"] = df[\"Date Time\"].apply(lambda x: float(int(x.split()[1].replace(\":\", \"\"), 10) // 1000))\n",
        "    full_x = torch.FloatTensor(df.drop([\"Tpot (K)\", \"Tdew (degC)\"], axis=1).values)\n",
        "    full_y = torch.FloatTensor(df[\"T (degC)\"].values).view(-1, 1)\n",
        "\n",
        "    test_set_start_index = int(full_x.shape[0] * 0.9)\n",
        "    self.train_mean = full_x[:test_set_start_index].mean(dim=0)\n",
        "    self.train_std = full_x[:test_set_start_index].std(dim=0)\n",
        "\n",
        "    if train:\n",
        "      self.x = (full_x[:test_set_start_index] - self.train_mean) / self.train_std\n",
        "      self.y = full_y[:test_set_start_index]\n",
        "    else:\n",
        "      self.x = (full_x[test_set_start_index:] - self.train_mean) / self.train_std\n",
        "      self.y = full_y[test_set_start_index:]\n",
        "    \n",
        "    self.target_delay = target_delay\n",
        "    self.seq_len = seq_len\n",
        "    self.stride = stride\n",
        "\n",
        "  def __getitem__(self, index):\n",
        "    x_start = index * self.stride\n",
        "    x_end = x_start + self.seq_len - 1\n",
        "    return self.x[x_start:(x_end + 1)], self.y[x_end + self.target_delay]\n",
        "  \n",
        "  def __len__(self):\n",
        "    return (self.x.shape[0] - self.seq_len - self.target_delay) // self.stride"
      ]
    },
    {
      "cell_type": "code",
      "execution_count": 4,
      "metadata": {},
      "outputs": [],
      "source": [
        "train_dataset = MyDataset(root=\"datasets/\", train=True)\n",
        "test_dataset = MyDataset(root=\"datasets/\", train=False)\n",
        "train_loader = DataLoader(train_dataset, batch_size=batch_size, shuffle=True, drop_last=True)\n",
        "test_loader = DataLoader(test_dataset, batch_size=batch_size, shuffle=False, drop_last=True)"
      ]
    },
    {
      "cell_type": "code",
      "execution_count": 5,
      "metadata": {
        "id": "X9NkFkEE6c0d"
      },
      "outputs": [],
      "source": [
        "class MyModel(nn.Module):\n",
        "  def __init__(self):\n",
        "    super().__init__()\n",
        "    self.input_size = 13\n",
        "    self.hidden_size = 128\n",
        "    self.num_layers = 3\n",
        "    self.gru = nn.GRU(self.input_size, self.hidden_size, num_layers=self.num_layers, batch_first=True)\n",
        "    self.fc = nn.Sequential(\n",
        "      nn.Linear(self.hidden_size, self.hidden_size // 4),\n",
        "      nn.BatchNorm1d(self.hidden_size // 4),\n",
        "      nn.SiLU(),\n",
        "      nn.Dropout(),\n",
        "      nn.Linear(self.hidden_size // 4, 1)\n",
        "    )\n",
        "  \n",
        "  def forward(self, x):\n",
        "    out, h = self.gru(x, torch.zeros((self.num_layers, x.shape[0], self.hidden_size)).to(x.device))\n",
        "    out = self.fc(out[:, -1, :])\n",
        "    return out"
      ]
    },
    {
      "cell_type": "code",
      "execution_count": 6,
      "metadata": {
        "colab": {
          "base_uri": "https://localhost:8080/",
          "height": 1000
        },
        "id": "TXaAlSj66c0d",
        "outputId": "37d586c7-efb6-4e9b-86e4-64e580887e70"
      },
      "outputs": [
        {
          "data": {
            "text/plain": [
              "MyModel(\n",
              "  (gru): GRU(13, 128, num_layers=3, batch_first=True)\n",
              "  (fc): Sequential(\n",
              "    (0): Linear(in_features=128, out_features=32, bias=True)\n",
              "    (1): BatchNorm1d(32, eps=1e-05, momentum=0.1, affine=True, track_running_stats=True)\n",
              "    (2): SiLU()\n",
              "    (3): Dropout(p=0.5, inplace=False)\n",
              "    (4): Linear(in_features=32, out_features=1, bias=True)\n",
              "  )\n",
              ")"
            ]
          },
          "metadata": {},
          "output_type": "display_data"
        }
      ],
      "source": [
        "model = MyModel().to(device)\n",
        "criterion = nn.MSELoss().to(device)\n",
        "optimizer = optim.Adam(model.parameters(), lr=learning_rate)\n",
        "scheduler = optim.lr_scheduler.ReduceLROnPlateau(optimizer, mode=\"min\", factor=0.5, patience=3, threshold=0.0001)\n",
        "\n",
        "display(model)\n",
        "writer.add_graph(model, next(iter(test_loader))[0].to(device))\n",
        "writer.flush()"
      ]
    },
    {
      "cell_type": "code",
      "execution_count": 7,
      "metadata": {
        "id": "I1zVvnGm6c0e"
      },
      "outputs": [],
      "source": [
        "def validate():\n",
        "  with torch.no_grad():\n",
        "    model.eval()\n",
        "    batch_count = len(test_loader)\n",
        "    avg_cost = 0\n",
        "\n",
        "    for x, y in test_loader:\n",
        "      assert isinstance(x, torch.Tensor)\n",
        "      assert isinstance(y, torch.Tensor)\n",
        "      x = x.to(device)\n",
        "      y = y.to(device)\n",
        "\n",
        "      hypothesis = model(x)\n",
        "      cost = criterion(hypothesis, y)\n",
        "      avg_cost += cost.item() / batch_count\n",
        "    \n",
        "    model.train()\n",
        "    return avg_cost"
      ]
    },
    {
      "cell_type": "code",
      "execution_count": 8,
      "metadata": {
        "colab": {
          "base_uri": "https://localhost:8080/",
          "height": 953
        },
        "id": "epnmLfaI6c0f",
        "outputId": "6cd7a01c-e57d-4f29-93e7-bc02f0a68f27"
      },
      "outputs": [
        {
          "data": {
            "text/plain": [
              "'epoch: 0 / validate cost: 203.2954479623586'"
            ]
          },
          "metadata": {},
          "output_type": "display_data"
        },
        {
          "data": {
            "text/plain": [
              "'epoch: 1 / train cost: 121.40099177602991 / validate cost: 131.27748008444905 / lr: 0.0001'"
            ]
          },
          "metadata": {},
          "output_type": "display_data"
        },
        {
          "data": {
            "text/plain": [
              "'epoch: 2 / train cost: 88.68182259899078 / validate cost: 83.82459251023829 / lr: 0.0001'"
            ]
          },
          "metadata": {},
          "output_type": "display_data"
        },
        {
          "data": {
            "text/plain": [
              "'epoch: 3 / train cost: 58.75101846113033 / validate cost: 46.805773958563805 / lr: 0.0001'"
            ]
          },
          "metadata": {},
          "output_type": "display_data"
        },
        {
          "data": {
            "text/plain": [
              "'epoch: 4 / train cost: 36.68584143590114 / validate cost: 24.571247042156756 / lr: 0.0001'"
            ]
          },
          "metadata": {},
          "output_type": "display_data"
        },
        {
          "data": {
            "text/plain": [
              "'epoch: 5 / train cost: 24.013457071983193 / validate cost: 11.477676791138947 / lr: 0.0001'"
            ]
          },
          "metadata": {},
          "output_type": "display_data"
        },
        {
          "data": {
            "text/plain": [
              "'epoch: 6 / train cost: 19.05842859219693 / validate cost: 7.9939773173537105 / lr: 0.0001'"
            ]
          },
          "metadata": {},
          "output_type": "display_data"
        },
        {
          "data": {
            "text/plain": [
              "'epoch: 7 / train cost: 17.835136307700214 / validate cost: 8.834107019938529 / lr: 0.0001'"
            ]
          },
          "metadata": {},
          "output_type": "display_data"
        },
        {
          "data": {
            "text/plain": [
              "'epoch: 8 / train cost: 17.427828650555366 / validate cost: 7.472589179407805 / lr: 0.0001'"
            ]
          },
          "metadata": {},
          "output_type": "display_data"
        },
        {
          "data": {
            "text/plain": [
              "'epoch: 9 / train cost: 17.013285910072973 / validate cost: 11.025629336945713 / lr: 0.0001'"
            ]
          },
          "metadata": {},
          "output_type": "display_data"
        },
        {
          "data": {
            "text/plain": [
              "'epoch: 10 / train cost: 16.630756007210714 / validate cost: 7.202463028021157 / lr: 0.0001'"
            ]
          },
          "metadata": {},
          "output_type": "display_data"
        },
        {
          "data": {
            "text/plain": [
              "'epoch: 11 / train cost: 16.411938539601962 / validate cost: 8.583027815446258 / lr: 0.0001'"
            ]
          },
          "metadata": {},
          "output_type": "display_data"
        },
        {
          "data": {
            "text/plain": [
              "'epoch: 12 / train cost: 16.019356411190348 / validate cost: 9.251909026643261 / lr: 0.0001'"
            ]
          },
          "metadata": {},
          "output_type": "display_data"
        },
        {
          "data": {
            "text/plain": [
              "'epoch: 13 / train cost: 15.798013686325609 / validate cost: 6.990909997373819 / lr: 0.0001'"
            ]
          },
          "metadata": {},
          "output_type": "display_data"
        },
        {
          "data": {
            "text/plain": [
              "'epoch: 14 / train cost: 15.640705496577887 / validate cost: 7.080308238044381 / lr: 0.0001'"
            ]
          },
          "metadata": {},
          "output_type": "display_data"
        },
        {
          "data": {
            "text/plain": [
              "'epoch: 15 / train cost: 15.483490007206548 / validate cost: 7.579912967979908 / lr: 0.0001'"
            ]
          },
          "metadata": {},
          "output_type": "display_data"
        },
        {
          "data": {
            "text/plain": [
              "'epoch: 16 / train cost: 15.304808526119938 / validate cost: 7.809668253641576 / lr: 0.0001'"
            ]
          },
          "metadata": {},
          "output_type": "display_data"
        },
        {
          "data": {
            "text/plain": [
              "'epoch: 17 / train cost: 15.036093264919216 / validate cost: 8.0796277821064 / lr: 0.0001'"
            ]
          },
          "metadata": {},
          "output_type": "display_data"
        },
        {
          "data": {
            "text/plain": [
              "'epoch: 18 / train cost: 14.828768835633499 / validate cost: 7.161372140049934 / lr: 5e-05'"
            ]
          },
          "metadata": {},
          "output_type": "display_data"
        },
        {
          "data": {
            "text/plain": [
              "'epoch: 19 / train cost: 14.693706968679251 / validate cost: 6.866065793670714 / lr: 5e-05'"
            ]
          },
          "metadata": {},
          "output_type": "display_data"
        },
        {
          "data": {
            "text/plain": [
              "'epoch: 20 / train cost: 14.484462547302243 / validate cost: 7.164786709472537 / lr: 5e-05'"
            ]
          },
          "metadata": {},
          "output_type": "display_data"
        }
      ],
      "source": [
        "display(\"epoch: 0 / validate cost: {}\".format(validate()))\n",
        "best_cost = 10**9\n",
        "\n",
        "for epoch in range(training_epochs):\n",
        "  batch_count = len(train_loader)\n",
        "  avg_cost = 0\n",
        "\n",
        "  for x, y in train_loader:\n",
        "    assert isinstance(x, torch.Tensor)\n",
        "    assert isinstance(y, torch.Tensor)\n",
        "    model.train()\n",
        "    x = x.to(device)\n",
        "    y = y.to(device)\n",
        "\n",
        "    hypothesis = model(x)\n",
        "    cost = criterion(hypothesis, y)\n",
        "    avg_cost += cost.item() / batch_count\n",
        "\n",
        "    optimizer.zero_grad()\n",
        "    cost.backward()\n",
        "    optimizer.step()\n",
        "  \n",
        "  validate_cost = validate()\n",
        "  display(\"epoch: {} / train cost: {} / validate cost: {} / lr: {}\".format(epoch + 1, avg_cost, validate_cost, optimizer.param_groups[0][\"lr\"]))\n",
        "  writer.add_scalars(\"Cost\", {\"train\": avg_cost, \"validate\": validate_cost}, epoch + 1)\n",
        "  writer.flush()\n",
        "\n",
        "  if validate_cost < best_cost:\n",
        "    best_cost = validate_cost\n",
        "    torch.save(model.state_dict(), \"models/rnn-weather.pth\")\n",
        "\n",
        "  scheduler.step(validate_cost)"
      ]
    },
    {
      "cell_type": "code",
      "execution_count": 9,
      "metadata": {
        "colab": {
          "base_uri": "https://localhost:8080/",
          "height": 1000
        },
        "id": "0SFY_7jC2Bhw",
        "outputId": "15bd6c27-ad05-4dd2-cac9-0175101e8437"
      },
      "outputs": [
        {
          "data": {
            "text/plain": [
              "'index: 1 / real: 18.3℃ / prediction: 15.7℃'"
            ]
          },
          "metadata": {},
          "output_type": "display_data"
        },
        {
          "data": {
            "text/plain": [
              "'index: 2 / real: 22.5℃ / prediction: 21.9℃'"
            ]
          },
          "metadata": {},
          "output_type": "display_data"
        },
        {
          "data": {
            "text/plain": [
              "'index: 3 / real: 22.4℃ / prediction: 16.7℃'"
            ]
          },
          "metadata": {},
          "output_type": "display_data"
        },
        {
          "data": {
            "text/plain": [
              "'index: 4 / real: 10.1℃ / prediction: 13.0℃'"
            ]
          },
          "metadata": {},
          "output_type": "display_data"
        },
        {
          "data": {
            "text/plain": [
              "'index: 5 / real: 5.8℃ / prediction: 4.0℃'"
            ]
          },
          "metadata": {},
          "output_type": "display_data"
        },
        {
          "data": {
            "text/plain": [
              "'index: 6 / real: 14.5℃ / prediction: 15.5℃'"
            ]
          },
          "metadata": {},
          "output_type": "display_data"
        },
        {
          "data": {
            "text/plain": [
              "'index: 7 / real: 22.4℃ / prediction: 21.1℃'"
            ]
          },
          "metadata": {},
          "output_type": "display_data"
        },
        {
          "data": {
            "text/plain": [
              "'index: 8 / real: 10.9℃ / prediction: 10.6℃'"
            ]
          },
          "metadata": {},
          "output_type": "display_data"
        },
        {
          "data": {
            "text/plain": [
              "'index: 9 / real: 11.9℃ / prediction: 12.8℃'"
            ]
          },
          "metadata": {},
          "output_type": "display_data"
        },
        {
          "data": {
            "text/plain": [
              "'index: 10 / real: 16.3℃ / prediction: 18.4℃'"
            ]
          },
          "metadata": {},
          "output_type": "display_data"
        },
        {
          "data": {
            "text/plain": [
              "'index: 11 / real: 8.0℃ / prediction: 12.0℃'"
            ]
          },
          "metadata": {},
          "output_type": "display_data"
        },
        {
          "data": {
            "text/plain": [
              "'index: 12 / real: 4.5℃ / prediction: 6.6℃'"
            ]
          },
          "metadata": {},
          "output_type": "display_data"
        },
        {
          "data": {
            "text/plain": [
              "'index: 13 / real: -1.0℃ / prediction: 2.7℃'"
            ]
          },
          "metadata": {},
          "output_type": "display_data"
        },
        {
          "data": {
            "text/plain": [
              "'index: 14 / real: 13.8℃ / prediction: 17.6℃'"
            ]
          },
          "metadata": {},
          "output_type": "display_data"
        },
        {
          "data": {
            "text/plain": [
              "'index: 15 / real: 5.5℃ / prediction: 5.9℃'"
            ]
          },
          "metadata": {},
          "output_type": "display_data"
        },
        {
          "data": {
            "text/plain": [
              "'index: 16 / real: -0.1℃ / prediction: 1.8℃'"
            ]
          },
          "metadata": {},
          "output_type": "display_data"
        },
        {
          "data": {
            "text/plain": [
              "'index: 17 / real: 22.2℃ / prediction: 19.9℃'"
            ]
          },
          "metadata": {},
          "output_type": "display_data"
        },
        {
          "data": {
            "text/plain": [
              "'index: 18 / real: 6.5℃ / prediction: 6.5℃'"
            ]
          },
          "metadata": {},
          "output_type": "display_data"
        },
        {
          "data": {
            "text/plain": [
              "'index: 19 / real: 18.1℃ / prediction: 13.9℃'"
            ]
          },
          "metadata": {},
          "output_type": "display_data"
        },
        {
          "data": {
            "text/plain": [
              "'index: 20 / real: 16.4℃ / prediction: 14.0℃'"
            ]
          },
          "metadata": {},
          "output_type": "display_data"
        },
        {
          "data": {
            "text/plain": [
              "'index: 21 / real: 16.9℃ / prediction: 15.0℃'"
            ]
          },
          "metadata": {},
          "output_type": "display_data"
        },
        {
          "data": {
            "text/plain": [
              "'index: 22 / real: 5.1℃ / prediction: 7.7℃'"
            ]
          },
          "metadata": {},
          "output_type": "display_data"
        },
        {
          "data": {
            "text/plain": [
              "'index: 23 / real: 16.0℃ / prediction: 14.4℃'"
            ]
          },
          "metadata": {},
          "output_type": "display_data"
        },
        {
          "data": {
            "text/plain": [
              "'index: 24 / real: 6.5℃ / prediction: 7.9℃'"
            ]
          },
          "metadata": {},
          "output_type": "display_data"
        },
        {
          "data": {
            "text/plain": [
              "'index: 25 / real: 3.3℃ / prediction: 3.3℃'"
            ]
          },
          "metadata": {},
          "output_type": "display_data"
        },
        {
          "data": {
            "text/plain": [
              "'index: 26 / real: 16.6℃ / prediction: 15.1℃'"
            ]
          },
          "metadata": {},
          "output_type": "display_data"
        },
        {
          "data": {
            "text/plain": [
              "'index: 27 / real: 11.4℃ / prediction: 9.6℃'"
            ]
          },
          "metadata": {},
          "output_type": "display_data"
        },
        {
          "data": {
            "text/plain": [
              "'index: 28 / real: 1.9℃ / prediction: 1.5℃'"
            ]
          },
          "metadata": {},
          "output_type": "display_data"
        },
        {
          "data": {
            "text/plain": [
              "'index: 29 / real: 11.8℃ / prediction: 7.7℃'"
            ]
          },
          "metadata": {},
          "output_type": "display_data"
        },
        {
          "data": {
            "text/plain": [
              "'index: 30 / real: 31.1℃ / prediction: 26.3℃'"
            ]
          },
          "metadata": {},
          "output_type": "display_data"
        },
        {
          "data": {
            "text/plain": [
              "'index: 31 / real: 16.9℃ / prediction: 17.8℃'"
            ]
          },
          "metadata": {},
          "output_type": "display_data"
        },
        {
          "data": {
            "text/plain": [
              "'index: 32 / real: 7.9℃ / prediction: 6.2℃'"
            ]
          },
          "metadata": {},
          "output_type": "display_data"
        },
        {
          "data": {
            "text/plain": [
              "'index: 33 / real: -2.8℃ / prediction: 2.6℃'"
            ]
          },
          "metadata": {},
          "output_type": "display_data"
        },
        {
          "data": {
            "text/plain": [
              "'index: 34 / real: 22.4℃ / prediction: 21.3℃'"
            ]
          },
          "metadata": {},
          "output_type": "display_data"
        },
        {
          "data": {
            "text/plain": [
              "'index: 35 / real: 16.0℃ / prediction: 14.0℃'"
            ]
          },
          "metadata": {},
          "output_type": "display_data"
        },
        {
          "data": {
            "text/plain": [
              "'index: 36 / real: 7.2℃ / prediction: 8.0℃'"
            ]
          },
          "metadata": {},
          "output_type": "display_data"
        },
        {
          "data": {
            "text/plain": [
              "'index: 37 / real: 13.0℃ / prediction: 10.7℃'"
            ]
          },
          "metadata": {},
          "output_type": "display_data"
        },
        {
          "data": {
            "text/plain": [
              "'index: 38 / real: 0.8℃ / prediction: 0.2℃'"
            ]
          },
          "metadata": {},
          "output_type": "display_data"
        },
        {
          "data": {
            "text/plain": [
              "'index: 39 / real: 5.7℃ / prediction: 4.7℃'"
            ]
          },
          "metadata": {},
          "output_type": "display_data"
        },
        {
          "data": {
            "text/plain": [
              "'index: 40 / real: 5.1℃ / prediction: 1.2℃'"
            ]
          },
          "metadata": {},
          "output_type": "display_data"
        },
        {
          "data": {
            "text/plain": [
              "'index: 41 / real: 6.2℃ / prediction: 8.2℃'"
            ]
          },
          "metadata": {},
          "output_type": "display_data"
        },
        {
          "data": {
            "text/plain": [
              "'index: 42 / real: 21.3℃ / prediction: 18.4℃'"
            ]
          },
          "metadata": {},
          "output_type": "display_data"
        },
        {
          "data": {
            "text/plain": [
              "'index: 43 / real: 5.4℃ / prediction: 5.7℃'"
            ]
          },
          "metadata": {},
          "output_type": "display_data"
        },
        {
          "data": {
            "text/plain": [
              "'index: 44 / real: 5.9℃ / prediction: 6.5℃'"
            ]
          },
          "metadata": {},
          "output_type": "display_data"
        },
        {
          "data": {
            "text/plain": [
              "'index: 45 / real: 12.6℃ / prediction: 11.2℃'"
            ]
          },
          "metadata": {},
          "output_type": "display_data"
        },
        {
          "data": {
            "text/plain": [
              "'index: 46 / real: 6.3℃ / prediction: 2.4℃'"
            ]
          },
          "metadata": {},
          "output_type": "display_data"
        },
        {
          "data": {
            "text/plain": [
              "'index: 47 / real: 21.2℃ / prediction: 21.2℃'"
            ]
          },
          "metadata": {},
          "output_type": "display_data"
        },
        {
          "data": {
            "text/plain": [
              "'index: 48 / real: 22.6℃ / prediction: 23.2℃'"
            ]
          },
          "metadata": {},
          "output_type": "display_data"
        },
        {
          "data": {
            "text/plain": [
              "'index: 49 / real: 19.6℃ / prediction: 18.2℃'"
            ]
          },
          "metadata": {},
          "output_type": "display_data"
        },
        {
          "data": {
            "text/plain": [
              "'index: 50 / real: 19.9℃ / prediction: 18.9℃'"
            ]
          },
          "metadata": {},
          "output_type": "display_data"
        },
        {
          "data": {
            "text/plain": [
              "'index: 51 / real: 13.8℃ / prediction: 12.0℃'"
            ]
          },
          "metadata": {},
          "output_type": "display_data"
        },
        {
          "data": {
            "text/plain": [
              "'index: 52 / real: 14.2℃ / prediction: 11.8℃'"
            ]
          },
          "metadata": {},
          "output_type": "display_data"
        },
        {
          "data": {
            "text/plain": [
              "'index: 53 / real: 17.2℃ / prediction: 15.1℃'"
            ]
          },
          "metadata": {},
          "output_type": "display_data"
        },
        {
          "data": {
            "text/plain": [
              "'index: 54 / real: 13.7℃ / prediction: 14.3℃'"
            ]
          },
          "metadata": {},
          "output_type": "display_data"
        },
        {
          "data": {
            "text/plain": [
              "'index: 55 / real: 19.2℃ / prediction: 18.9℃'"
            ]
          },
          "metadata": {},
          "output_type": "display_data"
        },
        {
          "data": {
            "text/plain": [
              "'index: 56 / real: 8.8℃ / prediction: 8.5℃'"
            ]
          },
          "metadata": {},
          "output_type": "display_data"
        },
        {
          "data": {
            "text/plain": [
              "'index: 57 / real: 9.4℃ / prediction: 10.0℃'"
            ]
          },
          "metadata": {},
          "output_type": "display_data"
        },
        {
          "data": {
            "text/plain": [
              "'index: 58 / real: 10.9℃ / prediction: 11.3℃'"
            ]
          },
          "metadata": {},
          "output_type": "display_data"
        },
        {
          "data": {
            "text/plain": [
              "'index: 59 / real: 8.9℃ / prediction: 10.0℃'"
            ]
          },
          "metadata": {},
          "output_type": "display_data"
        },
        {
          "data": {
            "text/plain": [
              "'index: 60 / real: 10.6℃ / prediction: 16.4℃'"
            ]
          },
          "metadata": {},
          "output_type": "display_data"
        },
        {
          "data": {
            "text/plain": [
              "'index: 61 / real: 20.1℃ / prediction: 17.4℃'"
            ]
          },
          "metadata": {},
          "output_type": "display_data"
        },
        {
          "data": {
            "text/plain": [
              "'index: 62 / real: 14.7℃ / prediction: 13.3℃'"
            ]
          },
          "metadata": {},
          "output_type": "display_data"
        },
        {
          "data": {
            "text/plain": [
              "'index: 63 / real: 5.1℃ / prediction: 4.2℃'"
            ]
          },
          "metadata": {},
          "output_type": "display_data"
        },
        {
          "data": {
            "text/plain": [
              "'index: 64 / real: 7.6℃ / prediction: 5.7℃'"
            ]
          },
          "metadata": {},
          "output_type": "display_data"
        },
        {
          "data": {
            "text/plain": [
              "'index: 65 / real: 12.9℃ / prediction: 10.3℃'"
            ]
          },
          "metadata": {},
          "output_type": "display_data"
        },
        {
          "data": {
            "text/plain": [
              "'index: 66 / real: 18.4℃ / prediction: 17.4℃'"
            ]
          },
          "metadata": {},
          "output_type": "display_data"
        },
        {
          "data": {
            "text/plain": [
              "'index: 67 / real: -6.6℃ / prediction: -2.6℃'"
            ]
          },
          "metadata": {},
          "output_type": "display_data"
        },
        {
          "data": {
            "text/plain": [
              "'index: 68 / real: 15.6℃ / prediction: 19.7℃'"
            ]
          },
          "metadata": {},
          "output_type": "display_data"
        },
        {
          "data": {
            "text/plain": [
              "'index: 69 / real: 4.0℃ / prediction: 1.8℃'"
            ]
          },
          "metadata": {},
          "output_type": "display_data"
        },
        {
          "data": {
            "text/plain": [
              "'index: 70 / real: 9.4℃ / prediction: 4.1℃'"
            ]
          },
          "metadata": {},
          "output_type": "display_data"
        },
        {
          "data": {
            "text/plain": [
              "'index: 71 / real: 10.9℃ / prediction: 16.9℃'"
            ]
          },
          "metadata": {},
          "output_type": "display_data"
        },
        {
          "data": {
            "text/plain": [
              "'index: 72 / real: 15.9℃ / prediction: 13.1℃'"
            ]
          },
          "metadata": {},
          "output_type": "display_data"
        },
        {
          "data": {
            "text/plain": [
              "'index: 73 / real: 11.3℃ / prediction: 10.3℃'"
            ]
          },
          "metadata": {},
          "output_type": "display_data"
        },
        {
          "data": {
            "text/plain": [
              "'index: 74 / real: 25.9℃ / prediction: 25.7℃'"
            ]
          },
          "metadata": {},
          "output_type": "display_data"
        },
        {
          "data": {
            "text/plain": [
              "'index: 75 / real: 14.1℃ / prediction: 14.9℃'"
            ]
          },
          "metadata": {},
          "output_type": "display_data"
        },
        {
          "data": {
            "text/plain": [
              "'index: 76 / real: 18.7℃ / prediction: 18.3℃'"
            ]
          },
          "metadata": {},
          "output_type": "display_data"
        },
        {
          "data": {
            "text/plain": [
              "'index: 77 / real: 6.8℃ / prediction: 7.8℃'"
            ]
          },
          "metadata": {},
          "output_type": "display_data"
        },
        {
          "data": {
            "text/plain": [
              "'index: 78 / real: 3.1℃ / prediction: 3.5℃'"
            ]
          },
          "metadata": {},
          "output_type": "display_data"
        },
        {
          "data": {
            "text/plain": [
              "'index: 79 / real: 14.8℃ / prediction: 13.0℃'"
            ]
          },
          "metadata": {},
          "output_type": "display_data"
        },
        {
          "data": {
            "text/plain": [
              "'index: 80 / real: 4.7℃ / prediction: 6.4℃'"
            ]
          },
          "metadata": {},
          "output_type": "display_data"
        },
        {
          "data": {
            "text/plain": [
              "'index: 81 / real: 15.4℃ / prediction: 16.1℃'"
            ]
          },
          "metadata": {},
          "output_type": "display_data"
        },
        {
          "data": {
            "text/plain": [
              "'index: 82 / real: 4.1℃ / prediction: 1.8℃'"
            ]
          },
          "metadata": {},
          "output_type": "display_data"
        },
        {
          "data": {
            "text/plain": [
              "'index: 83 / real: 6.2℃ / prediction: 10.0℃'"
            ]
          },
          "metadata": {},
          "output_type": "display_data"
        },
        {
          "data": {
            "text/plain": [
              "'index: 84 / real: 24.9℃ / prediction: 17.7℃'"
            ]
          },
          "metadata": {},
          "output_type": "display_data"
        },
        {
          "data": {
            "text/plain": [
              "'index: 85 / real: -5.2℃ / prediction: -1.1℃'"
            ]
          },
          "metadata": {},
          "output_type": "display_data"
        },
        {
          "data": {
            "text/plain": [
              "'index: 86 / real: 19.4℃ / prediction: 22.0℃'"
            ]
          },
          "metadata": {},
          "output_type": "display_data"
        },
        {
          "data": {
            "text/plain": [
              "'index: 87 / real: 21.5℃ / prediction: 16.3℃'"
            ]
          },
          "metadata": {},
          "output_type": "display_data"
        },
        {
          "data": {
            "text/plain": [
              "'index: 88 / real: 5.1℃ / prediction: 7.8℃'"
            ]
          },
          "metadata": {},
          "output_type": "display_data"
        },
        {
          "data": {
            "text/plain": [
              "'index: 89 / real: 6.4℃ / prediction: 3.1℃'"
            ]
          },
          "metadata": {},
          "output_type": "display_data"
        },
        {
          "data": {
            "text/plain": [
              "'index: 90 / real: 3.5℃ / prediction: 3.6℃'"
            ]
          },
          "metadata": {},
          "output_type": "display_data"
        },
        {
          "data": {
            "text/plain": [
              "'index: 91 / real: 12.4℃ / prediction: 8.5℃'"
            ]
          },
          "metadata": {},
          "output_type": "display_data"
        },
        {
          "data": {
            "text/plain": [
              "'index: 92 / real: 5.5℃ / prediction: 4.8℃'"
            ]
          },
          "metadata": {},
          "output_type": "display_data"
        },
        {
          "data": {
            "text/plain": [
              "'index: 93 / real: 19.5℃ / prediction: 18.8℃'"
            ]
          },
          "metadata": {},
          "output_type": "display_data"
        },
        {
          "data": {
            "text/plain": [
              "'index: 94 / real: 9.5℃ / prediction: 10.0℃'"
            ]
          },
          "metadata": {},
          "output_type": "display_data"
        },
        {
          "data": {
            "text/plain": [
              "'index: 95 / real: 2.6℃ / prediction: 2.3℃'"
            ]
          },
          "metadata": {},
          "output_type": "display_data"
        },
        {
          "data": {
            "text/plain": [
              "'index: 96 / real: 21.6℃ / prediction: 22.0℃'"
            ]
          },
          "metadata": {},
          "output_type": "display_data"
        },
        {
          "data": {
            "text/plain": [
              "'index: 97 / real: 19.7℃ / prediction: 20.6℃'"
            ]
          },
          "metadata": {},
          "output_type": "display_data"
        },
        {
          "data": {
            "text/plain": [
              "'index: 98 / real: 7.6℃ / prediction: 8.6℃'"
            ]
          },
          "metadata": {},
          "output_type": "display_data"
        },
        {
          "data": {
            "text/plain": [
              "'index: 99 / real: 17.2℃ / prediction: 15.1℃'"
            ]
          },
          "metadata": {},
          "output_type": "display_data"
        },
        {
          "data": {
            "text/plain": [
              "'index: 100 / real: 5.0℃ / prediction: 5.6℃'"
            ]
          },
          "metadata": {},
          "output_type": "display_data"
        },
        {
          "data": {
            "text/plain": [
              "'index: 101 / real: 6.7℃ / prediction: 8.1℃'"
            ]
          },
          "metadata": {},
          "output_type": "display_data"
        },
        {
          "data": {
            "text/plain": [
              "'index: 102 / real: 5.3℃ / prediction: 1.9℃'"
            ]
          },
          "metadata": {},
          "output_type": "display_data"
        },
        {
          "data": {
            "text/plain": [
              "'index: 103 / real: 19.5℃ / prediction: 15.6℃'"
            ]
          },
          "metadata": {},
          "output_type": "display_data"
        },
        {
          "data": {
            "text/plain": [
              "'index: 104 / real: 13.5℃ / prediction: 15.1℃'"
            ]
          },
          "metadata": {},
          "output_type": "display_data"
        },
        {
          "data": {
            "text/plain": [
              "'index: 105 / real: 19.2℃ / prediction: 18.2℃'"
            ]
          },
          "metadata": {},
          "output_type": "display_data"
        },
        {
          "data": {
            "text/plain": [
              "'index: 106 / real: -2.7℃ / prediction: 1.3℃'"
            ]
          },
          "metadata": {},
          "output_type": "display_data"
        },
        {
          "data": {
            "text/plain": [
              "'index: 107 / real: -1.7℃ / prediction: 2.4℃'"
            ]
          },
          "metadata": {},
          "output_type": "display_data"
        },
        {
          "data": {
            "text/plain": [
              "'index: 108 / real: 8.3℃ / prediction: 7.9℃'"
            ]
          },
          "metadata": {},
          "output_type": "display_data"
        },
        {
          "data": {
            "text/plain": [
              "'index: 109 / real: 3.8℃ / prediction: 4.9℃'"
            ]
          },
          "metadata": {},
          "output_type": "display_data"
        },
        {
          "data": {
            "text/plain": [
              "'index: 110 / real: 13.3℃ / prediction: 11.4℃'"
            ]
          },
          "metadata": {},
          "output_type": "display_data"
        },
        {
          "data": {
            "text/plain": [
              "'index: 111 / real: 7.2℃ / prediction: 9.6℃'"
            ]
          },
          "metadata": {},
          "output_type": "display_data"
        },
        {
          "data": {
            "text/plain": [
              "'index: 112 / real: 7.5℃ / prediction: 6.2℃'"
            ]
          },
          "metadata": {},
          "output_type": "display_data"
        },
        {
          "data": {
            "text/plain": [
              "'index: 113 / real: 15.6℃ / prediction: 16.3℃'"
            ]
          },
          "metadata": {},
          "output_type": "display_data"
        },
        {
          "data": {
            "text/plain": [
              "'index: 114 / real: 26.6℃ / prediction: 22.9℃'"
            ]
          },
          "metadata": {},
          "output_type": "display_data"
        },
        {
          "data": {
            "text/plain": [
              "'index: 115 / real: 11.5℃ / prediction: 12.5℃'"
            ]
          },
          "metadata": {},
          "output_type": "display_data"
        },
        {
          "data": {
            "text/plain": [
              "'index: 116 / real: 27.5℃ / prediction: 23.8℃'"
            ]
          },
          "metadata": {},
          "output_type": "display_data"
        },
        {
          "data": {
            "text/plain": [
              "'index: 117 / real: 14.7℃ / prediction: 15.1℃'"
            ]
          },
          "metadata": {},
          "output_type": "display_data"
        },
        {
          "data": {
            "text/plain": [
              "'index: 118 / real: 17.5℃ / prediction: 14.2℃'"
            ]
          },
          "metadata": {},
          "output_type": "display_data"
        },
        {
          "data": {
            "text/plain": [
              "'index: 119 / real: 17.3℃ / prediction: 18.0℃'"
            ]
          },
          "metadata": {},
          "output_type": "display_data"
        },
        {
          "data": {
            "text/plain": [
              "'index: 120 / real: 10.0℃ / prediction: 12.9℃'"
            ]
          },
          "metadata": {},
          "output_type": "display_data"
        },
        {
          "data": {
            "text/plain": [
              "'index: 121 / real: 21.3℃ / prediction: 20.1℃'"
            ]
          },
          "metadata": {},
          "output_type": "display_data"
        },
        {
          "data": {
            "text/plain": [
              "'index: 122 / real: 23.3℃ / prediction: 23.2℃'"
            ]
          },
          "metadata": {},
          "output_type": "display_data"
        },
        {
          "data": {
            "text/plain": [
              "'index: 123 / real: 13.6℃ / prediction: 13.1℃'"
            ]
          },
          "metadata": {},
          "output_type": "display_data"
        },
        {
          "data": {
            "text/plain": [
              "'index: 124 / real: 16.7℃ / prediction: 16.4℃'"
            ]
          },
          "metadata": {},
          "output_type": "display_data"
        },
        {
          "data": {
            "text/plain": [
              "'index: 125 / real: 11.6℃ / prediction: 13.0℃'"
            ]
          },
          "metadata": {},
          "output_type": "display_data"
        },
        {
          "data": {
            "text/plain": [
              "'index: 126 / real: 11.7℃ / prediction: 13.3℃'"
            ]
          },
          "metadata": {},
          "output_type": "display_data"
        },
        {
          "data": {
            "text/plain": [
              "'index: 127 / real: 18.6℃ / prediction: 18.5℃'"
            ]
          },
          "metadata": {},
          "output_type": "display_data"
        },
        {
          "data": {
            "text/plain": [
              "'index: 128 / real: 7.2℃ / prediction: 8.4℃'"
            ]
          },
          "metadata": {},
          "output_type": "display_data"
        },
        {
          "data": {
            "text/plain": [
              "'index: 129 / real: 12.9℃ / prediction: 15.8℃'"
            ]
          },
          "metadata": {},
          "output_type": "display_data"
        },
        {
          "data": {
            "text/plain": [
              "'index: 130 / real: 17.2℃ / prediction: 16.1℃'"
            ]
          },
          "metadata": {},
          "output_type": "display_data"
        },
        {
          "data": {
            "text/plain": [
              "'index: 131 / real: 19.1℃ / prediction: 17.0℃'"
            ]
          },
          "metadata": {},
          "output_type": "display_data"
        },
        {
          "data": {
            "text/plain": [
              "'index: 132 / real: 5.9℃ / prediction: 6.4℃'"
            ]
          },
          "metadata": {},
          "output_type": "display_data"
        },
        {
          "data": {
            "text/plain": [
              "'index: 133 / real: 6.9℃ / prediction: 6.4℃'"
            ]
          },
          "metadata": {},
          "output_type": "display_data"
        },
        {
          "data": {
            "text/plain": [
              "'index: 134 / real: 18.3℃ / prediction: 16.8℃'"
            ]
          },
          "metadata": {},
          "output_type": "display_data"
        },
        {
          "data": {
            "text/plain": [
              "'index: 135 / real: 18.0℃ / prediction: 18.3℃'"
            ]
          },
          "metadata": {},
          "output_type": "display_data"
        },
        {
          "data": {
            "text/plain": [
              "'index: 136 / real: 11.8℃ / prediction: 11.0℃'"
            ]
          },
          "metadata": {},
          "output_type": "display_data"
        },
        {
          "data": {
            "text/plain": [
              "'index: 137 / real: 16.1℃ / prediction: 16.4℃'"
            ]
          },
          "metadata": {},
          "output_type": "display_data"
        },
        {
          "data": {
            "text/plain": [
              "'index: 138 / real: 7.7℃ / prediction: 8.7℃'"
            ]
          },
          "metadata": {},
          "output_type": "display_data"
        },
        {
          "data": {
            "text/plain": [
              "'index: 139 / real: 9.6℃ / prediction: 9.7℃'"
            ]
          },
          "metadata": {},
          "output_type": "display_data"
        },
        {
          "data": {
            "text/plain": [
              "'index: 140 / real: 9.0℃ / prediction: 8.9℃'"
            ]
          },
          "metadata": {},
          "output_type": "display_data"
        },
        {
          "data": {
            "text/plain": [
              "'index: 141 / real: 13.2℃ / prediction: 12.0℃'"
            ]
          },
          "metadata": {},
          "output_type": "display_data"
        },
        {
          "data": {
            "text/plain": [
              "'index: 142 / real: 6.4℃ / prediction: 3.4℃'"
            ]
          },
          "metadata": {},
          "output_type": "display_data"
        },
        {
          "data": {
            "text/plain": [
              "'index: 143 / real: 12.4℃ / prediction: 13.3℃'"
            ]
          },
          "metadata": {},
          "output_type": "display_data"
        },
        {
          "data": {
            "text/plain": [
              "'index: 144 / real: 13.6℃ / prediction: 12.8℃'"
            ]
          },
          "metadata": {},
          "output_type": "display_data"
        },
        {
          "data": {
            "text/plain": [
              "'index: 145 / real: 14.0℃ / prediction: 11.6℃'"
            ]
          },
          "metadata": {},
          "output_type": "display_data"
        },
        {
          "data": {
            "text/plain": [
              "'index: 146 / real: 16.8℃ / prediction: 12.8℃'"
            ]
          },
          "metadata": {},
          "output_type": "display_data"
        },
        {
          "data": {
            "text/plain": [
              "'index: 147 / real: 12.8℃ / prediction: 12.8℃'"
            ]
          },
          "metadata": {},
          "output_type": "display_data"
        },
        {
          "data": {
            "text/plain": [
              "'index: 148 / real: 15.5℃ / prediction: 13.0℃'"
            ]
          },
          "metadata": {},
          "output_type": "display_data"
        },
        {
          "data": {
            "text/plain": [
              "'index: 149 / real: 8.0℃ / prediction: 10.9℃'"
            ]
          },
          "metadata": {},
          "output_type": "display_data"
        },
        {
          "data": {
            "text/plain": [
              "'index: 150 / real: 20.1℃ / prediction: 17.6℃'"
            ]
          },
          "metadata": {},
          "output_type": "display_data"
        },
        {
          "data": {
            "text/plain": [
              "'index: 151 / real: 13.8℃ / prediction: 12.1℃'"
            ]
          },
          "metadata": {},
          "output_type": "display_data"
        },
        {
          "data": {
            "text/plain": [
              "'index: 152 / real: 15.7℃ / prediction: 16.3℃'"
            ]
          },
          "metadata": {},
          "output_type": "display_data"
        },
        {
          "data": {
            "text/plain": [
              "'index: 153 / real: 6.0℃ / prediction: 2.9℃'"
            ]
          },
          "metadata": {},
          "output_type": "display_data"
        },
        {
          "data": {
            "text/plain": [
              "'index: 154 / real: 9.0℃ / prediction: 4.0℃'"
            ]
          },
          "metadata": {},
          "output_type": "display_data"
        },
        {
          "data": {
            "text/plain": [
              "'index: 155 / real: -6.5℃ / prediction: -2.7℃'"
            ]
          },
          "metadata": {},
          "output_type": "display_data"
        },
        {
          "data": {
            "text/plain": [
              "'index: 156 / real: -0.9℃ / prediction: 3.0℃'"
            ]
          },
          "metadata": {},
          "output_type": "display_data"
        },
        {
          "data": {
            "text/plain": [
              "'index: 157 / real: 21.5℃ / prediction: 19.7℃'"
            ]
          },
          "metadata": {},
          "output_type": "display_data"
        },
        {
          "data": {
            "text/plain": [
              "'index: 158 / real: 23.4℃ / prediction: 20.9℃'"
            ]
          },
          "metadata": {},
          "output_type": "display_data"
        },
        {
          "data": {
            "text/plain": [
              "'index: 159 / real: 19.0℃ / prediction: 16.3℃'"
            ]
          },
          "metadata": {},
          "output_type": "display_data"
        },
        {
          "data": {
            "text/plain": [
              "'index: 160 / real: 6.3℃ / prediction: 8.2℃'"
            ]
          },
          "metadata": {},
          "output_type": "display_data"
        },
        {
          "data": {
            "text/plain": [
              "'index: 161 / real: 9.2℃ / prediction: 4.2℃'"
            ]
          },
          "metadata": {},
          "output_type": "display_data"
        },
        {
          "data": {
            "text/plain": [
              "'index: 162 / real: 4.3℃ / prediction: -1.7℃'"
            ]
          },
          "metadata": {},
          "output_type": "display_data"
        },
        {
          "data": {
            "text/plain": [
              "'index: 163 / real: 20.4℃ / prediction: 22.2℃'"
            ]
          },
          "metadata": {},
          "output_type": "display_data"
        },
        {
          "data": {
            "text/plain": [
              "'index: 164 / real: 12.1℃ / prediction: 16.0℃'"
            ]
          },
          "metadata": {},
          "output_type": "display_data"
        },
        {
          "data": {
            "text/plain": [
              "'index: 165 / real: 24.8℃ / prediction: 23.7℃'"
            ]
          },
          "metadata": {},
          "output_type": "display_data"
        },
        {
          "data": {
            "text/plain": [
              "'index: 166 / real: 3.8℃ / prediction: 7.1℃'"
            ]
          },
          "metadata": {},
          "output_type": "display_data"
        },
        {
          "data": {
            "text/plain": [
              "'index: 167 / real: 7.0℃ / prediction: 7.4℃'"
            ]
          },
          "metadata": {},
          "output_type": "display_data"
        },
        {
          "data": {
            "text/plain": [
              "'index: 168 / real: 9.2℃ / prediction: 10.2℃'"
            ]
          },
          "metadata": {},
          "output_type": "display_data"
        },
        {
          "data": {
            "text/plain": [
              "'index: 169 / real: 20.6℃ / prediction: 17.6℃'"
            ]
          },
          "metadata": {},
          "output_type": "display_data"
        },
        {
          "data": {
            "text/plain": [
              "'index: 170 / real: 17.0℃ / prediction: 14.8℃'"
            ]
          },
          "metadata": {},
          "output_type": "display_data"
        },
        {
          "data": {
            "text/plain": [
              "'index: 171 / real: 7.8℃ / prediction: 7.6℃'"
            ]
          },
          "metadata": {},
          "output_type": "display_data"
        },
        {
          "data": {
            "text/plain": [
              "'index: 172 / real: 2.6℃ / prediction: 3.5℃'"
            ]
          },
          "metadata": {},
          "output_type": "display_data"
        },
        {
          "data": {
            "text/plain": [
              "'index: 173 / real: 8.9℃ / prediction: 4.1℃'"
            ]
          },
          "metadata": {},
          "output_type": "display_data"
        },
        {
          "data": {
            "text/plain": [
              "'index: 174 / real: 11.9℃ / prediction: 6.1℃'"
            ]
          },
          "metadata": {},
          "output_type": "display_data"
        },
        {
          "data": {
            "text/plain": [
              "'index: 175 / real: 1.8℃ / prediction: 1.2℃'"
            ]
          },
          "metadata": {},
          "output_type": "display_data"
        },
        {
          "data": {
            "text/plain": [
              "'index: 176 / real: 3.6℃ / prediction: 4.5℃'"
            ]
          },
          "metadata": {},
          "output_type": "display_data"
        },
        {
          "data": {
            "text/plain": [
              "'index: 177 / real: 5.9℃ / prediction: 5.6℃'"
            ]
          },
          "metadata": {},
          "output_type": "display_data"
        },
        {
          "data": {
            "text/plain": [
              "'index: 178 / real: 0.0℃ / prediction: 3.0℃'"
            ]
          },
          "metadata": {},
          "output_type": "display_data"
        },
        {
          "data": {
            "text/plain": [
              "'index: 179 / real: 14.7℃ / prediction: 14.9℃'"
            ]
          },
          "metadata": {},
          "output_type": "display_data"
        },
        {
          "data": {
            "text/plain": [
              "'index: 180 / real: 4.4℃ / prediction: 3.5℃'"
            ]
          },
          "metadata": {},
          "output_type": "display_data"
        },
        {
          "data": {
            "text/plain": [
              "'index: 181 / real: 7.2℃ / prediction: 11.2℃'"
            ]
          },
          "metadata": {},
          "output_type": "display_data"
        },
        {
          "data": {
            "text/plain": [
              "'index: 182 / real: 5.6℃ / prediction: 3.4℃'"
            ]
          },
          "metadata": {},
          "output_type": "display_data"
        },
        {
          "data": {
            "text/plain": [
              "'index: 183 / real: 5.4℃ / prediction: 5.7℃'"
            ]
          },
          "metadata": {},
          "output_type": "display_data"
        },
        {
          "data": {
            "text/plain": [
              "'index: 184 / real: 3.1℃ / prediction: 3.2℃'"
            ]
          },
          "metadata": {},
          "output_type": "display_data"
        },
        {
          "data": {
            "text/plain": [
              "'index: 185 / real: 5.9℃ / prediction: 3.4℃'"
            ]
          },
          "metadata": {},
          "output_type": "display_data"
        },
        {
          "data": {
            "text/plain": [
              "'index: 186 / real: 21.6℃ / prediction: 17.2℃'"
            ]
          },
          "metadata": {},
          "output_type": "display_data"
        },
        {
          "data": {
            "text/plain": [
              "'index: 187 / real: 5.8℃ / prediction: 6.7℃'"
            ]
          },
          "metadata": {},
          "output_type": "display_data"
        },
        {
          "data": {
            "text/plain": [
              "'index: 188 / real: 6.3℃ / prediction: 10.1℃'"
            ]
          },
          "metadata": {},
          "output_type": "display_data"
        },
        {
          "data": {
            "text/plain": [
              "'index: 189 / real: 12.9℃ / prediction: 12.5℃'"
            ]
          },
          "metadata": {},
          "output_type": "display_data"
        },
        {
          "data": {
            "text/plain": [
              "'index: 190 / real: 13.5℃ / prediction: 15.4℃'"
            ]
          },
          "metadata": {},
          "output_type": "display_data"
        },
        {
          "data": {
            "text/plain": [
              "'index: 191 / real: 32.5℃ / prediction: 27.4℃'"
            ]
          },
          "metadata": {},
          "output_type": "display_data"
        },
        {
          "data": {
            "text/plain": [
              "'index: 192 / real: 12.4℃ / prediction: 9.6℃'"
            ]
          },
          "metadata": {},
          "output_type": "display_data"
        },
        {
          "data": {
            "text/plain": [
              "'index: 193 / real: 0.6℃ / prediction: 2.6℃'"
            ]
          },
          "metadata": {},
          "output_type": "display_data"
        },
        {
          "data": {
            "text/plain": [
              "'index: 194 / real: 4.3℃ / prediction: 5.6℃'"
            ]
          },
          "metadata": {},
          "output_type": "display_data"
        },
        {
          "data": {
            "text/plain": [
              "'index: 195 / real: 8.3℃ / prediction: 8.4℃'"
            ]
          },
          "metadata": {},
          "output_type": "display_data"
        },
        {
          "data": {
            "text/plain": [
              "'index: 196 / real: 9.2℃ / prediction: 6.7℃'"
            ]
          },
          "metadata": {},
          "output_type": "display_data"
        },
        {
          "data": {
            "text/plain": [
              "'index: 197 / real: 5.4℃ / prediction: 6.1℃'"
            ]
          },
          "metadata": {},
          "output_type": "display_data"
        },
        {
          "data": {
            "text/plain": [
              "'index: 198 / real: 13.8℃ / prediction: 13.5℃'"
            ]
          },
          "metadata": {},
          "output_type": "display_data"
        },
        {
          "data": {
            "text/plain": [
              "'index: 199 / real: 14.0℃ / prediction: 14.1℃'"
            ]
          },
          "metadata": {},
          "output_type": "display_data"
        },
        {
          "data": {
            "text/plain": [
              "'index: 200 / real: 14.9℃ / prediction: 16.3℃'"
            ]
          },
          "metadata": {},
          "output_type": "display_data"
        },
        {
          "data": {
            "text/plain": [
              "'index: 201 / real: 14.5℃ / prediction: 12.5℃'"
            ]
          },
          "metadata": {},
          "output_type": "display_data"
        },
        {
          "data": {
            "text/plain": [
              "'index: 202 / real: 17.3℃ / prediction: 17.1℃'"
            ]
          },
          "metadata": {},
          "output_type": "display_data"
        },
        {
          "data": {
            "text/plain": [
              "'index: 203 / real: 15.2℃ / prediction: 19.4℃'"
            ]
          },
          "metadata": {},
          "output_type": "display_data"
        },
        {
          "data": {
            "text/plain": [
              "'index: 204 / real: -2.0℃ / prediction: 1.5℃'"
            ]
          },
          "metadata": {},
          "output_type": "display_data"
        },
        {
          "data": {
            "text/plain": [
              "'index: 205 / real: 7.7℃ / prediction: 9.2℃'"
            ]
          },
          "metadata": {},
          "output_type": "display_data"
        },
        {
          "data": {
            "text/plain": [
              "'index: 206 / real: 0.1℃ / prediction: 1.0℃'"
            ]
          },
          "metadata": {},
          "output_type": "display_data"
        },
        {
          "data": {
            "text/plain": [
              "'index: 207 / real: 10.5℃ / prediction: 12.7℃'"
            ]
          },
          "metadata": {},
          "output_type": "display_data"
        },
        {
          "data": {
            "text/plain": [
              "'index: 208 / real: 10.6℃ / prediction: 12.0℃'"
            ]
          },
          "metadata": {},
          "output_type": "display_data"
        },
        {
          "data": {
            "text/plain": [
              "'index: 209 / real: 16.8℃ / prediction: 13.0℃'"
            ]
          },
          "metadata": {},
          "output_type": "display_data"
        },
        {
          "data": {
            "text/plain": [
              "'index: 210 / real: -7.5℃ / prediction: -1.1℃'"
            ]
          },
          "metadata": {},
          "output_type": "display_data"
        },
        {
          "data": {
            "text/plain": [
              "'index: 211 / real: 22.2℃ / prediction: 22.5℃'"
            ]
          },
          "metadata": {},
          "output_type": "display_data"
        },
        {
          "data": {
            "text/plain": [
              "'index: 212 / real: 13.7℃ / prediction: 12.1℃'"
            ]
          },
          "metadata": {},
          "output_type": "display_data"
        },
        {
          "data": {
            "text/plain": [
              "'index: 213 / real: 11.1℃ / prediction: 11.0℃'"
            ]
          },
          "metadata": {},
          "output_type": "display_data"
        },
        {
          "data": {
            "text/plain": [
              "'index: 214 / real: 5.0℃ / prediction: 6.3℃'"
            ]
          },
          "metadata": {},
          "output_type": "display_data"
        },
        {
          "data": {
            "text/plain": [
              "'index: 215 / real: 25.2℃ / prediction: 22.5℃'"
            ]
          },
          "metadata": {},
          "output_type": "display_data"
        },
        {
          "data": {
            "text/plain": [
              "'index: 216 / real: 6.9℃ / prediction: 11.5℃'"
            ]
          },
          "metadata": {},
          "output_type": "display_data"
        },
        {
          "data": {
            "text/plain": [
              "'index: 217 / real: 14.7℃ / prediction: 18.0℃'"
            ]
          },
          "metadata": {},
          "output_type": "display_data"
        },
        {
          "data": {
            "text/plain": [
              "'index: 218 / real: 15.7℃ / prediction: 10.0℃'"
            ]
          },
          "metadata": {},
          "output_type": "display_data"
        },
        {
          "data": {
            "text/plain": [
              "'index: 219 / real: 0.8℃ / prediction: 2.0℃'"
            ]
          },
          "metadata": {},
          "output_type": "display_data"
        },
        {
          "data": {
            "text/plain": [
              "'index: 220 / real: 17.7℃ / prediction: 15.5℃'"
            ]
          },
          "metadata": {},
          "output_type": "display_data"
        },
        {
          "data": {
            "text/plain": [
              "'index: 221 / real: 15.3℃ / prediction: 15.4℃'"
            ]
          },
          "metadata": {},
          "output_type": "display_data"
        },
        {
          "data": {
            "text/plain": [
              "'index: 222 / real: 10.0℃ / prediction: 10.7℃'"
            ]
          },
          "metadata": {},
          "output_type": "display_data"
        },
        {
          "data": {
            "text/plain": [
              "'index: 223 / real: -2.6℃ / prediction: 1.8℃'"
            ]
          },
          "metadata": {},
          "output_type": "display_data"
        },
        {
          "data": {
            "text/plain": [
              "'index: 224 / real: 17.7℃ / prediction: 14.7℃'"
            ]
          },
          "metadata": {},
          "output_type": "display_data"
        },
        {
          "data": {
            "text/plain": [
              "'index: 225 / real: 6.2℃ / prediction: 8.3℃'"
            ]
          },
          "metadata": {},
          "output_type": "display_data"
        },
        {
          "data": {
            "text/plain": [
              "'index: 226 / real: 24.8℃ / prediction: 22.3℃'"
            ]
          },
          "metadata": {},
          "output_type": "display_data"
        },
        {
          "data": {
            "text/plain": [
              "'index: 227 / real: 7.1℃ / prediction: 7.2℃'"
            ]
          },
          "metadata": {},
          "output_type": "display_data"
        },
        {
          "data": {
            "text/plain": [
              "'index: 228 / real: 4.5℃ / prediction: 5.4℃'"
            ]
          },
          "metadata": {},
          "output_type": "display_data"
        },
        {
          "data": {
            "text/plain": [
              "'index: 229 / real: 25.3℃ / prediction: 22.5℃'"
            ]
          },
          "metadata": {},
          "output_type": "display_data"
        },
        {
          "data": {
            "text/plain": [
              "'index: 230 / real: 15.9℃ / prediction: 11.7℃'"
            ]
          },
          "metadata": {},
          "output_type": "display_data"
        },
        {
          "data": {
            "text/plain": [
              "'index: 231 / real: 15.0℃ / prediction: 13.1℃'"
            ]
          },
          "metadata": {},
          "output_type": "display_data"
        },
        {
          "data": {
            "text/plain": [
              "'index: 232 / real: 6.8℃ / prediction: 10.0℃'"
            ]
          },
          "metadata": {},
          "output_type": "display_data"
        },
        {
          "data": {
            "text/plain": [
              "'index: 233 / real: 3.7℃ / prediction: 3.2℃'"
            ]
          },
          "metadata": {},
          "output_type": "display_data"
        },
        {
          "data": {
            "text/plain": [
              "'index: 234 / real: 11.2℃ / prediction: 9.9℃'"
            ]
          },
          "metadata": {},
          "output_type": "display_data"
        },
        {
          "data": {
            "text/plain": [
              "'index: 235 / real: 9.7℃ / prediction: 10.9℃'"
            ]
          },
          "metadata": {},
          "output_type": "display_data"
        },
        {
          "data": {
            "text/plain": [
              "'index: 236 / real: 9.9℃ / prediction: 11.1℃'"
            ]
          },
          "metadata": {},
          "output_type": "display_data"
        },
        {
          "data": {
            "text/plain": [
              "'index: 237 / real: 0.9℃ / prediction: 0.7℃'"
            ]
          },
          "metadata": {},
          "output_type": "display_data"
        },
        {
          "data": {
            "text/plain": [
              "'index: 238 / real: 2.4℃ / prediction: 2.5℃'"
            ]
          },
          "metadata": {},
          "output_type": "display_data"
        },
        {
          "data": {
            "text/plain": [
              "'index: 239 / real: 15.5℃ / prediction: 13.2℃'"
            ]
          },
          "metadata": {},
          "output_type": "display_data"
        },
        {
          "data": {
            "text/plain": [
              "'index: 240 / real: 16.5℃ / prediction: 14.9℃'"
            ]
          },
          "metadata": {},
          "output_type": "display_data"
        },
        {
          "data": {
            "text/plain": [
              "'index: 241 / real: 8.7℃ / prediction: 12.0℃'"
            ]
          },
          "metadata": {},
          "output_type": "display_data"
        },
        {
          "data": {
            "text/plain": [
              "'index: 242 / real: 20.3℃ / prediction: 21.1℃'"
            ]
          },
          "metadata": {},
          "output_type": "display_data"
        },
        {
          "data": {
            "text/plain": [
              "'index: 243 / real: 15.4℃ / prediction: 18.2℃'"
            ]
          },
          "metadata": {},
          "output_type": "display_data"
        },
        {
          "data": {
            "text/plain": [
              "'index: 244 / real: 20.3℃ / prediction: 17.0℃'"
            ]
          },
          "metadata": {},
          "output_type": "display_data"
        },
        {
          "data": {
            "text/plain": [
              "'index: 245 / real: 16.4℃ / prediction: 14.1℃'"
            ]
          },
          "metadata": {},
          "output_type": "display_data"
        },
        {
          "data": {
            "text/plain": [
              "'index: 246 / real: 14.3℃ / prediction: 14.5℃'"
            ]
          },
          "metadata": {},
          "output_type": "display_data"
        },
        {
          "data": {
            "text/plain": [
              "'index: 247 / real: 9.9℃ / prediction: 11.0℃'"
            ]
          },
          "metadata": {},
          "output_type": "display_data"
        },
        {
          "data": {
            "text/plain": [
              "'index: 248 / real: 1.5℃ / prediction: 2.9℃'"
            ]
          },
          "metadata": {},
          "output_type": "display_data"
        },
        {
          "data": {
            "text/plain": [
              "'index: 249 / real: 9.0℃ / prediction: 7.3℃'"
            ]
          },
          "metadata": {},
          "output_type": "display_data"
        },
        {
          "data": {
            "text/plain": [
              "'index: 250 / real: 6.1℃ / prediction: 8.6℃'"
            ]
          },
          "metadata": {},
          "output_type": "display_data"
        },
        {
          "data": {
            "text/plain": [
              "'index: 251 / real: 24.6℃ / prediction: 22.6℃'"
            ]
          },
          "metadata": {},
          "output_type": "display_data"
        },
        {
          "data": {
            "text/plain": [
              "'index: 252 / real: 1.7℃ / prediction: 0.5℃'"
            ]
          },
          "metadata": {},
          "output_type": "display_data"
        },
        {
          "data": {
            "text/plain": [
              "'index: 253 / real: 6.5℃ / prediction: 9.2℃'"
            ]
          },
          "metadata": {},
          "output_type": "display_data"
        },
        {
          "data": {
            "text/plain": [
              "'index: 254 / real: 14.8℃ / prediction: 13.8℃'"
            ]
          },
          "metadata": {},
          "output_type": "display_data"
        },
        {
          "data": {
            "text/plain": [
              "'index: 255 / real: 5.8℃ / prediction: 4.9℃'"
            ]
          },
          "metadata": {},
          "output_type": "display_data"
        },
        {
          "data": {
            "text/plain": [
              "'index: 256 / real: 20.5℃ / prediction: 18.5℃'"
            ]
          },
          "metadata": {},
          "output_type": "display_data"
        },
        {
          "data": {
            "text/plain": [
              "'index: 257 / real: 2.0℃ / prediction: 1.9℃'"
            ]
          },
          "metadata": {},
          "output_type": "display_data"
        },
        {
          "data": {
            "text/plain": [
              "'index: 258 / real: 1.4℃ / prediction: 2.5℃'"
            ]
          },
          "metadata": {},
          "output_type": "display_data"
        },
        {
          "data": {
            "text/plain": [
              "'index: 259 / real: 3.2℃ / prediction: 7.8℃'"
            ]
          },
          "metadata": {},
          "output_type": "display_data"
        },
        {
          "data": {
            "text/plain": [
              "'index: 260 / real: 7.2℃ / prediction: 6.7℃'"
            ]
          },
          "metadata": {},
          "output_type": "display_data"
        },
        {
          "data": {
            "text/plain": [
              "'index: 261 / real: 15.7℃ / prediction: 14.8℃'"
            ]
          },
          "metadata": {},
          "output_type": "display_data"
        },
        {
          "data": {
            "text/plain": [
              "'index: 262 / real: 20.8℃ / prediction: 24.1℃'"
            ]
          },
          "metadata": {},
          "output_type": "display_data"
        },
        {
          "data": {
            "text/plain": [
              "'index: 263 / real: 8.0℃ / prediction: 9.2℃'"
            ]
          },
          "metadata": {},
          "output_type": "display_data"
        },
        {
          "data": {
            "text/plain": [
              "'index: 264 / real: 2.3℃ / prediction: 2.1℃'"
            ]
          },
          "metadata": {},
          "output_type": "display_data"
        },
        {
          "data": {
            "text/plain": [
              "'index: 265 / real: 16.5℃ / prediction: 12.9℃'"
            ]
          },
          "metadata": {},
          "output_type": "display_data"
        },
        {
          "data": {
            "text/plain": [
              "'index: 266 / real: 7.5℃ / prediction: 8.6℃'"
            ]
          },
          "metadata": {},
          "output_type": "display_data"
        },
        {
          "data": {
            "text/plain": [
              "'index: 267 / real: 13.8℃ / prediction: 11.3℃'"
            ]
          },
          "metadata": {},
          "output_type": "display_data"
        },
        {
          "data": {
            "text/plain": [
              "'index: 268 / real: 4.0℃ / prediction: 8.2℃'"
            ]
          },
          "metadata": {},
          "output_type": "display_data"
        },
        {
          "data": {
            "text/plain": [
              "'index: 269 / real: 4.7℃ / prediction: 2.1℃'"
            ]
          },
          "metadata": {},
          "output_type": "display_data"
        },
        {
          "data": {
            "text/plain": [
              "'index: 270 / real: 6.8℃ / prediction: 4.5℃'"
            ]
          },
          "metadata": {},
          "output_type": "display_data"
        },
        {
          "data": {
            "text/plain": [
              "'index: 271 / real: 12.3℃ / prediction: 12.0℃'"
            ]
          },
          "metadata": {},
          "output_type": "display_data"
        },
        {
          "data": {
            "text/plain": [
              "'index: 272 / real: 22.8℃ / prediction: 21.3℃'"
            ]
          },
          "metadata": {},
          "output_type": "display_data"
        },
        {
          "data": {
            "text/plain": [
              "'index: 273 / real: 9.9℃ / prediction: 13.7℃'"
            ]
          },
          "metadata": {},
          "output_type": "display_data"
        },
        {
          "data": {
            "text/plain": [
              "'index: 274 / real: 8.3℃ / prediction: 3.1℃'"
            ]
          },
          "metadata": {},
          "output_type": "display_data"
        },
        {
          "data": {
            "text/plain": [
              "'index: 275 / real: 15.7℃ / prediction: 10.7℃'"
            ]
          },
          "metadata": {},
          "output_type": "display_data"
        },
        {
          "data": {
            "text/plain": [
              "'index: 276 / real: 3.8℃ / prediction: 3.8℃'"
            ]
          },
          "metadata": {},
          "output_type": "display_data"
        },
        {
          "data": {
            "text/plain": [
              "'index: 277 / real: 26.0℃ / prediction: 22.2℃'"
            ]
          },
          "metadata": {},
          "output_type": "display_data"
        },
        {
          "data": {
            "text/plain": [
              "'index: 278 / real: 2.9℃ / prediction: 6.9℃'"
            ]
          },
          "metadata": {},
          "output_type": "display_data"
        },
        {
          "data": {
            "text/plain": [
              "'index: 279 / real: 8.9℃ / prediction: 9.3℃'"
            ]
          },
          "metadata": {},
          "output_type": "display_data"
        },
        {
          "data": {
            "text/plain": [
              "'index: 280 / real: 3.6℃ / prediction: 3.1℃'"
            ]
          },
          "metadata": {},
          "output_type": "display_data"
        },
        {
          "data": {
            "text/plain": [
              "'index: 281 / real: 13.0℃ / prediction: 18.6℃'"
            ]
          },
          "metadata": {},
          "output_type": "display_data"
        },
        {
          "data": {
            "text/plain": [
              "'index: 282 / real: 14.4℃ / prediction: 15.2℃'"
            ]
          },
          "metadata": {},
          "output_type": "display_data"
        },
        {
          "data": {
            "text/plain": [
              "'index: 283 / real: 26.1℃ / prediction: 22.1℃'"
            ]
          },
          "metadata": {},
          "output_type": "display_data"
        },
        {
          "data": {
            "text/plain": [
              "'index: 284 / real: -0.2℃ / prediction: 3.4℃'"
            ]
          },
          "metadata": {},
          "output_type": "display_data"
        },
        {
          "data": {
            "text/plain": [
              "'index: 285 / real: 14.8℃ / prediction: 16.3℃'"
            ]
          },
          "metadata": {},
          "output_type": "display_data"
        },
        {
          "data": {
            "text/plain": [
              "'index: 286 / real: 7.9℃ / prediction: 10.4℃'"
            ]
          },
          "metadata": {},
          "output_type": "display_data"
        },
        {
          "data": {
            "text/plain": [
              "'index: 287 / real: 8.0℃ / prediction: 7.2℃'"
            ]
          },
          "metadata": {},
          "output_type": "display_data"
        },
        {
          "data": {
            "text/plain": [
              "'index: 288 / real: 13.9℃ / prediction: 12.9℃'"
            ]
          },
          "metadata": {},
          "output_type": "display_data"
        },
        {
          "data": {
            "text/plain": [
              "'index: 289 / real: 15.0℃ / prediction: 12.7℃'"
            ]
          },
          "metadata": {},
          "output_type": "display_data"
        },
        {
          "data": {
            "text/plain": [
              "'index: 290 / real: 8.9℃ / prediction: 10.4℃'"
            ]
          },
          "metadata": {},
          "output_type": "display_data"
        },
        {
          "data": {
            "text/plain": [
              "'index: 291 / real: 11.4℃ / prediction: 12.5℃'"
            ]
          },
          "metadata": {},
          "output_type": "display_data"
        },
        {
          "data": {
            "text/plain": [
              "'index: 292 / real: 15.1℃ / prediction: 14.6℃'"
            ]
          },
          "metadata": {},
          "output_type": "display_data"
        },
        {
          "data": {
            "text/plain": [
              "'index: 293 / real: 0.4℃ / prediction: 2.1℃'"
            ]
          },
          "metadata": {},
          "output_type": "display_data"
        },
        {
          "data": {
            "text/plain": [
              "'index: 294 / real: 23.2℃ / prediction: 18.5℃'"
            ]
          },
          "metadata": {},
          "output_type": "display_data"
        },
        {
          "data": {
            "text/plain": [
              "'index: 295 / real: 7.9℃ / prediction: 5.0℃'"
            ]
          },
          "metadata": {},
          "output_type": "display_data"
        },
        {
          "data": {
            "text/plain": [
              "'index: 296 / real: 17.7℃ / prediction: 13.1℃'"
            ]
          },
          "metadata": {},
          "output_type": "display_data"
        },
        {
          "data": {
            "text/plain": [
              "'index: 297 / real: 5.9℃ / prediction: 2.6℃'"
            ]
          },
          "metadata": {},
          "output_type": "display_data"
        },
        {
          "data": {
            "text/plain": [
              "'index: 298 / real: 10.5℃ / prediction: 7.0℃'"
            ]
          },
          "metadata": {},
          "output_type": "display_data"
        },
        {
          "data": {
            "text/plain": [
              "'index: 299 / real: 19.7℃ / prediction: 21.9℃'"
            ]
          },
          "metadata": {},
          "output_type": "display_data"
        },
        {
          "data": {
            "text/plain": [
              "'index: 300 / real: 6.4℃ / prediction: 8.2℃'"
            ]
          },
          "metadata": {},
          "output_type": "display_data"
        }
      ],
      "source": [
        "model.load_state_dict(torch.load(\"models/rnn-weather.pth\", map_location=device))\n",
        "\n",
        "with torch.no_grad():\n",
        "  model.eval()\n",
        "  \n",
        "  for n, (x, y) in enumerate(itertools.islice(DataLoader(test_dataset, batch_size=1, shuffle=True), 300)):\n",
        "    assert isinstance(x, torch.Tensor)\n",
        "    assert isinstance(y, torch.Tensor)\n",
        "    x = x.to(device)\n",
        "    y = y.to(device)\n",
        "    hypothesis = model(x)\n",
        "    display(\"index: {} / real: {:.1f}℃ / prediction: {:.1f}℃\".format(n + 1, y.item(), hypothesis.item()))\n",
        "  \n",
        "  model.train()\n",
        "\n",
        "writer.close()"
      ]
    }
  ],
  "metadata": {
    "accelerator": "GPU",
    "colab": {
      "collapsed_sections": [],
      "name": "vgg-cifar-10.ipynb",
      "provenance": []
    },
    "gpuClass": "standard",
    "kernelspec": {
      "display_name": "Python 3.9.12 ('base')",
      "language": "python",
      "name": "python3"
    },
    "language_info": {
      "codemirror_mode": {
        "name": "ipython",
        "version": 3
      },
      "file_extension": ".py",
      "mimetype": "text/x-python",
      "name": "python",
      "nbconvert_exporter": "python",
      "pygments_lexer": "ipython3",
      "version": "3.9.12"
    },
    "orig_nbformat": 4,
    "vscode": {
      "interpreter": {
        "hash": "caf1c2fcf97217de91eafa76b907d50f9ea378f5ffbee7f571142d119bb6a771"
      }
    }
  },
  "nbformat": 4,
  "nbformat_minor": 0
}
