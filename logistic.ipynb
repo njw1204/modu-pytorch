{
 "cells": [
  {
   "cell_type": "markdown",
   "metadata": {},
   "source": [
    "# Is Even MNIST"
   ]
  },
  {
   "cell_type": "code",
   "execution_count": 1,
   "metadata": {},
   "outputs": [
    {
     "name": "stdout",
     "output_type": "stream",
     "text": [
      "cuda:0\n"
     ]
    }
   ],
   "source": [
    "import itertools\n",
    "import random\n",
    "import numpy as np\n",
    "import matplotlib.pyplot as plt\n",
    "import torch\n",
    "from torch import nn\n",
    "from torch.utils.data import DataLoader\n",
    "from torchvision import datasets, transforms\n",
    "\n",
    "random_seed = 20181401\n",
    "random.seed(random_seed)\n",
    "np.random.seed(random_seed)\n",
    "torch.manual_seed(random_seed)\n",
    "torch.cuda.manual_seed(random_seed)\n",
    "torch.backends.cudnn.deterministic = True\n",
    "torch.backends.cudnn.benchmark = False\n",
    "\n",
    "device = torch.device(\"cuda:0\" if torch.cuda.is_available() else \"cpu\")\n",
    "print(device)"
   ]
  },
  {
   "cell_type": "code",
   "execution_count": 2,
   "metadata": {},
   "outputs": [
    {
     "name": "stdout",
     "output_type": "stream",
     "text": [
      "X: torch.Size([60000, 28, 28])\n",
      "Y: torch.Size([60000])\n"
     ]
    }
   ],
   "source": [
    "training_epochs = 10\n",
    "batch_size = 32\n",
    "mnist_train = datasets.MNIST(root=\"datasets/\", train=True, transform=transforms.ToTensor(), download=True)\n",
    "mnist_test = datasets.MNIST(root=\"datasets/\", train=False, transform=transforms.ToTensor(), download=True)\n",
    "mnist_train_dataloader = DataLoader(mnist_train, batch_size=batch_size, shuffle=True, drop_last=True)\n",
    "mnist_test_dataloader = DataLoader(mnist_test, batch_size=batch_size)\n",
    "\n",
    "print(\"X:\", mnist_train.data.shape)\n",
    "print(\"Y:\", mnist_train.targets.shape)"
   ]
  },
  {
   "cell_type": "code",
   "execution_count": 3,
   "metadata": {},
   "outputs": [],
   "source": [
    "w = torch.zeros((28 * 28, 1), requires_grad=True, device=device)\n",
    "b = torch.zeros(1, requires_grad=True, device=device)\n",
    "optimizer = torch.optim.Adam([w, b], lr=0.0001)"
   ]
  },
  {
   "cell_type": "code",
   "execution_count": 4,
   "metadata": {},
   "outputs": [],
   "source": [
    "def calculate_accurancy():\n",
    "  with torch.no_grad():\n",
    "    accurancy = 0\n",
    "    batch_count = len(mnist_test_dataloader)\n",
    "\n",
    "    for x, y in mnist_test_dataloader:\n",
    "      assert isinstance(x, torch.Tensor)\n",
    "      assert isinstance(y, torch.Tensor)\n",
    "      x = x.view(-1, 28 * 28).to(device)\n",
    "      y = (y.bitwise_and(1) == 0).view(-1, 1).byte().to(device)\n",
    "\n",
    "      hypothesis = torch.sigmoid(x.matmul(w) + b)\n",
    "      prediction = (hypothesis > 0.5)\n",
    "      correct_prediction = (prediction == y)\n",
    "      accurancy += correct_prediction.float().mean().item() / batch_count\n",
    "  \n",
    "    return accurancy"
   ]
  },
  {
   "cell_type": "code",
   "execution_count": 5,
   "metadata": {},
   "outputs": [
    {
     "name": "stdout",
     "output_type": "stream",
     "text": [
      "epoch = 0 / accurancy = 50.739%\n",
      "epoch = 1 / cost = 0.4711078608512869 / accurancy = 84.934%\n",
      "epoch = 2 / cost = 0.3542054888407395 / accurancy = 86.402%\n",
      "epoch = 3 / cost = 0.3230866429845489 / accurancy = 87.550%\n",
      "epoch = 4 / cost = 0.3076280817945804 / accurancy = 87.819%\n",
      "epoch = 5 / cost = 0.29798976557652207 / accurancy = 88.019%\n",
      "epoch = 6 / cost = 0.2911661381165187 / accurancy = 88.309%\n",
      "epoch = 7 / cost = 0.2859744342207908 / accurancy = 88.648%\n",
      "epoch = 8 / cost = 0.28186314555803904 / accurancy = 88.898%\n",
      "epoch = 9 / cost = 0.27853084531227723 / accurancy = 88.838%\n",
      "epoch = 10 / cost = 0.2757345964153609 / accurancy = 89.157%\n"
     ]
    }
   ],
   "source": [
    "print(\"epoch =\", 0, \"/\", \"accurancy = {:.3f}%\".format(calculate_accurancy() * 100))\n",
    "\n",
    "for epoch in range(training_epochs):\n",
    "  avg_cost = 0\n",
    "  batch_count = len(mnist_train_dataloader)\n",
    "\n",
    "  for iteration, (x, y) in enumerate(mnist_train_dataloader):\n",
    "    assert isinstance(x, torch.Tensor)\n",
    "    assert isinstance(y, torch.Tensor)\n",
    "    x = x.view(-1, 28 * 28).to(device)\n",
    "    y = (y.bitwise_and(1) == 0).view(-1, 1).byte().to(device)\n",
    "\n",
    "    hypothesis = torch.sigmoid(x.matmul(w) + b)\n",
    "    cost = -torch.mean(y * torch.log(hypothesis) + (1 - y) * torch.log(1 - hypothesis))\n",
    "\n",
    "    optimizer.zero_grad()\n",
    "    cost.backward()\n",
    "    optimizer.step()\n",
    "    avg_cost += cost.item() / batch_count\n",
    "  \n",
    "  print(\"epoch =\", (epoch + 1), \"/\", \"cost =\", avg_cost, \"/\", \"accurancy = {:.3f}%\".format(calculate_accurancy() * 100))"
   ]
  },
  {
   "cell_type": "code",
   "execution_count": 6,
   "metadata": {},
   "outputs": [
    {
     "name": "stdout",
     "output_type": "stream",
     "text": [
      "Label: False\n",
      "Prediction: False\n"
     ]
    },
    {
     "data": {
      "image/png": "[encoded data removed]",
      "text/plain": [
       "<Figure size 432x288 with 1 Axes>"
      ]
     },
     "metadata": {
      "needs_background": "light"
     },
     "output_type": "display_data"
    },
    {
     "name": "stdout",
     "output_type": "stream",
     "text": [
      "Label: True\n",
      "Prediction: True\n"
     ]
    },
    {
     "data": {
      "image/png": "[encoded data removed]",
      "text/plain": [
       "<Figure size 432x288 with 1 Axes>"
      ]
     },
     "metadata": {
      "needs_background": "light"
     },
     "output_type": "display_data"
    },
    {
     "name": "stdout",
     "output_type": "stream",
     "text": [
      "Label: False\n",
      "Prediction: False\n"
     ]
    },
    {
     "data": {
      "image/png": "[encoded data removed]",
      "text/plain": [
       "<Figure size 432x288 with 1 Axes>"
      ]
     },
     "metadata": {
      "needs_background": "light"
     },
     "output_type": "display_data"
    },
    {
     "name": "stdout",
     "output_type": "stream",
     "text": [
      "Label: True\n",
      "Prediction: True\n"
     ]
    },
    {
     "data": {
      "image/png": "[encoded data removed]",
      "text/plain": [
       "<Figure size 432x288 with 1 Axes>"
      ]
     },
     "metadata": {
      "needs_background": "light"
     },
     "output_type": "display_data"
    },
    {
     "name": "stdout",
     "output_type": "stream",
     "text": [
      "Label: True\n",
      "Prediction: True\n"
     ]
    },
    {
     "data": {
      "image/png": "[encoded data removed]",
      "text/plain": [
       "<Figure size 432x288 with 1 Axes>"
      ]
     },
     "metadata": {
      "needs_background": "light"
     },
     "output_type": "display_data"
    },
    {
     "name": "stdout",
     "output_type": "stream",
     "text": [
      "Label: False\n",
      "Prediction: False\n"
     ]
    },
    {
     "data": {
      "image/png": "[encoded data removed]",
      "text/plain": [
       "<Figure size 432x288 with 1 Axes>"
      ]
     },
     "metadata": {
      "needs_background": "light"
     },
     "output_type": "display_data"
    },
    {
     "name": "stdout",
     "output_type": "stream",
     "text": [
      "Label: True\n",
      "Prediction: True\n"
     ]
    },
    {
     "data": {
      "image/png": "[encoded data removed]",
      "text/plain": [
       "<Figure size 432x288 with 1 Axes>"
      ]
     },
     "metadata": {
      "needs_background": "light"
     },
     "output_type": "display_data"
    },
    {
     "name": "stdout",
     "output_type": "stream",
     "text": [
      "Label: False\n",
      "Prediction: False\n"
     ]
    },
    {
     "data": {
      "image/png": "[encoded data removed]",
      "text/plain": [
       "<Figure size 432x288 with 1 Axes>"
      ]
     },
     "metadata": {
      "needs_background": "light"
     },
     "output_type": "display_data"
    },
    {
     "name": "stdout",
     "output_type": "stream",
     "text": [
      "Label: False\n",
      "Prediction: True\n"
     ]
    },
    {
     "data": {
      "image/png": "[encoded data removed]",
      "text/plain": [
       "<Figure size 432x288 with 1 Axes>"
      ]
     },
     "metadata": {
      "needs_background": "light"
     },
     "output_type": "display_data"
    },
    {
     "name": "stdout",
     "output_type": "stream",
     "text": [
      "Label: False\n",
      "Prediction: False\n"
     ]
    },
    {
     "data": {
      "image/png": "[encoded data removed]",
      "text/plain": [
       "<Figure size 432x288 with 1 Axes>"
      ]
     },
     "metadata": {
      "needs_background": "light"
     },
     "output_type": "display_data"
    },
    {
     "name": "stdout",
     "output_type": "stream",
     "text": [
      "Label: True\n",
      "Prediction: True\n"
     ]
    },
    {
     "data": {
      "image/png": "[encoded data removed]",
      "text/plain": [
       "<Figure size 432x288 with 1 Axes>"
      ]
     },
     "metadata": {
      "needs_background": "light"
     },
     "output_type": "display_data"
    },
    {
     "name": "stdout",
     "output_type": "stream",
     "text": [
      "Label: True\n",
      "Prediction: True\n"
     ]
    },
    {
     "data": {
      "image/png": "[encoded data removed]",
      "text/plain": [
       "<Figure size 432x288 with 1 Axes>"
      ]
     },
     "metadata": {
      "needs_background": "light"
     },
     "output_type": "display_data"
    },
    {
     "name": "stdout",
     "output_type": "stream",
     "text": [
      "Label: False\n",
      "Prediction: False\n"
     ]
    },
    {
     "data": {
      "image/png": "[encoded data removed]",
      "text/plain": [
       "<Figure size 432x288 with 1 Axes>"
      ]
     },
     "metadata": {
      "needs_background": "light"
     },
     "output_type": "display_data"
    },
    {
     "name": "stdout",
     "output_type": "stream",
     "text": [
      "Label: True\n",
      "Prediction: True\n"
     ]
    },
    {
     "data": {
      "image/png": "[encoded data removed]",
      "text/plain": [
       "<Figure size 432x288 with 1 Axes>"
      ]
     },
     "metadata": {
      "needs_background": "light"
     },
     "output_type": "display_data"
    },
    {
     "name": "stdout",
     "output_type": "stream",
     "text": [
      "Label: False\n",
      "Prediction: False\n"
     ]
    },
    {
     "data": {
      "image/png": "[encoded data removed]",
      "text/plain": [
       "<Figure size 432x288 with 1 Axes>"
      ]
     },
     "metadata": {
      "needs_background": "light"
     },
     "output_type": "display_data"
    },
    {
     "name": "stdout",
     "output_type": "stream",
     "text": [
      "Label: False\n",
      "Prediction: False\n"
     ]
    },
    {
     "data": {
      "image/png": "[encoded data removed]",
      "text/plain": [
       "<Figure size 432x288 with 1 Axes>"
      ]
     },
     "metadata": {
      "needs_background": "light"
     },
     "output_type": "display_data"
    },
    {
     "name": "stdout",
     "output_type": "stream",
     "text": [
      "Label: False\n",
      "Prediction: False\n"
     ]
    },
    {
     "data": {
      "image/png": "[encoded data removed]",
      "text/plain": [
       "<Figure size 432x288 with 1 Axes>"
      ]
     },
     "metadata": {
      "needs_background": "light"
     },
     "output_type": "display_data"
    },
    {
     "name": "stdout",
     "output_type": "stream",
     "text": [
      "Label: False\n",
      "Prediction: False\n"
     ]
    },
    {
     "data": {
      "image/png": "[encoded data removed]",
      "text/plain": [
       "<Figure size 432x288 with 1 Axes>"
      ]
     },
     "metadata": {
      "needs_background": "light"
     },
     "output_type": "display_data"
    },
    {
     "name": "stdout",
     "output_type": "stream",
     "text": [
      "Label: False\n",
      "Prediction: False\n"
     ]
    },
    {
     "data": {
      "image/png": "[encoded data removed]",
      "text/plain": [
       "<Figure size 432x288 with 1 Axes>"
      ]
     },
     "metadata": {
      "needs_background": "light"
     },
     "output_type": "display_data"
    },
    {
     "name": "stdout",
     "output_type": "stream",
     "text": [
      "Label: True\n",
      "Prediction: True\n"
     ]
    },
    {
     "data": {
      "image/png": "[encoded data removed]",
      "text/plain": [
       "<Figure size 432x288 with 1 Axes>"
      ]
     },
     "metadata": {
      "needs_background": "light"
     },
     "output_type": "display_data"
    }
   ],
   "source": [
    "with torch.no_grad():\n",
    "  for x, y in itertools.islice(DataLoader(mnist_test, batch_size=1), 20):\n",
    "    assert isinstance(x, torch.Tensor)\n",
    "    assert isinstance(y, torch.Tensor)\n",
    "    x = x.view(-1, 28 * 28).to(device)\n",
    "    y = (y.bitwise_and(1) == 0).view(-1, 1).byte().to(device)\n",
    "\n",
    "    hypothesis = torch.sigmoid(x.matmul(w) + b)\n",
    "    prediction = (hypothesis > 0.5).item()\n",
    "\n",
    "    print(\"Label:\", y.bool().item())\n",
    "    print(\"Prediction:\", prediction)\n",
    "    plt.imshow(x.cpu().view(28, 28), cmap=plt.cm.Greys, interpolation=\"nearest\")\n",
    "    plt.show()"
   ]
  }
 ],
 "metadata": {
  "kernelspec": {
   "display_name": "Python 3.9.12 ('base')",
   "language": "python",
   "name": "python3"
  },
  "language_info": {
   "codemirror_mode": {
    "name": "ipython",
    "version": 3
   },
   "file_extension": ".py",
   "mimetype": "text/x-python",
   "name": "python",
   "nbconvert_exporter": "python",
   "pygments_lexer": "ipython3",
   "version": "3.9.12"
  },
  "orig_nbformat": 4,
  "vscode": {
   "interpreter": {
    "hash": "caf1c2fcf97217de91eafa76b907d50f9ea378f5ffbee7f571142d119bb6a771"
   }
  }
 },
 "nbformat": 4,
 "nbformat_minor": 2
}
