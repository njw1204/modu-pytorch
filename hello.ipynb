{
 "cells": [
  {
   "cell_type": "markdown",
   "metadata": {},
   "source": [
    "# Hello World"
   ]
  },
  {
   "cell_type": "code",
   "execution_count": 1,
   "metadata": {},
   "outputs": [],
   "source": [
    "import numpy as np"
   ]
  },
  {
   "cell_type": "code",
   "execution_count": 2,
   "metadata": {},
   "outputs": [],
   "source": [
    "matrix = np.array([[0., 1., 2.,], [1., 2., 3.,]])\n",
    "matrix2 = np.array([[0., 1.,], [0., 1.,], [0., 1.,]])"
   ]
  },
  {
   "cell_type": "code",
   "execution_count": 3,
   "metadata": {},
   "outputs": [
    {
     "name": "stdout",
     "output_type": "stream",
     "text": [
      "[[0. 1. 2.]\n",
      " [1. 2. 3.]] 2 (2, 3)\n",
      "[[0. 1.]\n",
      " [0. 1.]\n",
      " [0. 1.]] 2 (3, 2)\n"
     ]
    }
   ],
   "source": [
    "print(matrix, matrix.ndim, matrix.shape)\n",
    "print(matrix2, matrix2.ndim, matrix2.shape)"
   ]
  },
  {
   "cell_type": "code",
   "execution_count": 4,
   "metadata": {},
   "outputs": [
    {
     "name": "stdout",
     "output_type": "stream",
     "text": [
      "[2. 3. 0. 1. 2.]\n",
      "[[0. 1. 2.]\n",
      " [0. 2. 3.]]\n"
     ]
    }
   ],
   "source": [
    "print(np.concatenate([matrix[:, -1], matrix[0, :]], axis=0))\n",
    "print(np.stack([matrix[0, :], np.concatenate([[0], matrix[:, -1]])], axis=0))"
   ]
  },
  {
   "cell_type": "code",
   "execution_count": 5,
   "metadata": {},
   "outputs": [
    {
     "name": "stdout",
     "output_type": "stream",
     "text": [
      "[[0. 3.]\n",
      " [0. 6.]]\n",
      "[1. 2. 3.]\n",
      "[1 1 1]\n",
      "[0.5 0.5 0.5]\n"
     ]
    }
   ],
   "source": [
    "print(np.matmul(matrix, matrix2))\n",
    "print(np.max(matrix, axis=0))\n",
    "print(np.argmax(matrix, axis=0))\n",
    "print(np.mean(matrix2, axis=-1))"
   ]
  },
  {
   "cell_type": "code",
   "execution_count": 6,
   "metadata": {},
   "outputs": [
    {
     "name": "stdout",
     "output_type": "stream",
     "text": [
      "[[0.]\n",
      " [1.]\n",
      " [2.]\n",
      " [1.]\n",
      " [2.]\n",
      " [3.]]\n",
      "[0. 1. 2. 1. 2. 3.]\n",
      "[[0. 1. 0.]\n",
      " [1. 0. 1.]]\n"
     ]
    }
   ],
   "source": [
    "print(np.reshape(matrix, [-1, 1]))\n",
    "print(np.squeeze(np.reshape(matrix, [-1, 1])))\n",
    "print(np.reshape(matrix2, [2, -1]))"
   ]
  },
  {
   "cell_type": "code",
   "execution_count": 7,
   "metadata": {},
   "outputs": [
    {
     "name": "stdout",
     "output_type": "stream",
     "text": [
      "[[0. 0. 0.]\n",
      " [0. 0. 0.]]\n",
      "[[1. 1. 1.]\n",
      " [1. 1. 1.]]\n",
      "[[ 0.73390224  0.76041494 -0.86553859 -1.88583114 -0.09453084]\n",
      " [-0.35915088 -0.79444967  0.23466354  2.50844874 -0.92454212]\n",
      " [ 1.41787157 -1.14367442 -0.66370009 -1.02207394  0.06134593]\n",
      " [-1.37274753  2.21762967 -1.04518771 -1.52565306 -0.03860794]\n",
      " [ 1.05347678 -0.15628405  0.74655211  0.33199514  0.42199143]]\n"
     ]
    }
   ],
   "source": [
    "print(np.zeros_like(matrix))\n",
    "print(np.ones_like(matrix2.T))\n",
    "print(np.random.randn(5, 5))"
   ]
  }
 ],
 "metadata": {
  "kernelspec": {
   "display_name": "Python 3.9.12 64-bit",
   "language": "python",
   "name": "python3"
  },
  "language_info": {
   "codemirror_mode": {
    "name": "ipython",
    "version": 3
   },
   "file_extension": ".py",
   "mimetype": "text/x-python",
   "name": "python",
   "nbconvert_exporter": "python",
   "pygments_lexer": "ipython3",
   "version": "3.9.12"
  },
  "orig_nbformat": 4,
  "vscode": {
   "interpreter": {
    "hash": "aee8b7b246df8f9039afb4144a1f6fd8d2ca17a180786b69acc140d282b71a49"
   }
  }
 },
 "nbformat": 4,
 "nbformat_minor": 2
}
